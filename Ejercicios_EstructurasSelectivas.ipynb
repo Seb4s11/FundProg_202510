{
  "nbformat": 4,
  "nbformat_minor": 0,
  "metadata": {
    "colab": {
      "provenance": [],
      "authorship_tag": "ABX9TyPNG7sRZBz3Gbc9GHdiSCJO",
      "include_colab_link": true
    },
    "kernelspec": {
      "name": "python3",
      "display_name": "Python 3"
    },
    "language_info": {
      "name": "python"
    }
  },
  "cells": [
    {
      "cell_type": "markdown",
      "metadata": {
        "id": "view-in-github",
        "colab_type": "text"
      },
      "source": [
        "<a href=\"https://colab.research.google.com/github/Seb4s11/FundProg_202510/blob/main/Ejercicios_EstructurasSelectivas.ipynb\" target=\"_parent\"><img src=\"https://colab.research.google.com/assets/colab-badge.svg\" alt=\"Open In Colab\"/></a>"
      ]
    },
    {
      "cell_type": "markdown",
      "source": [
        "#1.  Números Romanos  \n",
        "Diseña un programa que solicite al usuario ingresar un número dentro del rango de 1 a 10. El programa debe mostrar la versión en números romanos de ese número. Si el número está fuera del\n",
        "rango de 1 a 10, el programa debe mostrar un mensaje de error.\n",
        "```\n",
        "Program Numeros_romanos\n",
        "Start\n",
        "  Declare num\n",
        "\n",
        "  Display \"Ingrese un número del 1 al 10\"\n",
        "  Input num\n",
        "\n",
        "  If num = 1 Then\n",
        "  Display \"1 en número romano es I\"\n",
        "\n",
        "    Else If num = 2 Then\n",
        "    Display \"2 en número romano es II\"\n",
        "\n",
        "    Else If num = 3 Then\n",
        "    Display \"3 en número romano es III\"\n",
        "\n",
        "    Else If num = 4 Then\n",
        "    Display \"4 en número romano es IV\"\n",
        "\n",
        "    Else If num = 5 Then\n",
        "    Display \"5 en número romano es V\"\n",
        "\n",
        "    Else If num = 6 Then\n",
        "    Display \"6 en número romano es VI\"\n",
        "\n",
        "    Else If num = 7 Then\n",
        "    Display \"7 en número romano es VII\"\n",
        "\n",
        "    Else If num = 8 Then\n",
        "    Display \"8 en número romano es VII\"\n",
        "\n",
        "    Else If num = 9 Then\n",
        "    Display \"9 en número romano es IX\"\n",
        "\n",
        "    Else If num = 10 Then\n",
        "    Display \"10 en número romano es X\"\n",
        "\n",
        "    Else\n",
        "    Display \"Error: Ingrese un número que esté en el intervalo 1-10\"\n",
        "  End If\n",
        "End\n",
        "```"
      ],
      "metadata": {
        "id": "xvRC6jcmva8e"
      }
    },
    {
      "cell_type": "code",
      "source": [
        "num = int(input(\"Ingrese un número del 1 al 10: \"))\n",
        "\n",
        "if num == 1:\n",
        "    print(\"1 en número romano es I\")\n",
        "elif num == 2:\n",
        "    print(\"2 en número romano es II\")\n",
        "elif num == 3:\n",
        "    print(\"3 en número romano es III\")\n",
        "elif num == 4:\n",
        "    print(\"4 en número romano es IV\")\n",
        "elif num == 5:\n",
        "    print(\"5 en número romano es V\")\n",
        "elif num == 6:\n",
        "      print(\"6 en número romano es VI\")\n",
        "elif num == 7:\n",
        "    print(\"7 en número romano es VII\")\n",
        "elif num == 8:\n",
        "      print(\"8 en número romano es VIII\")\n",
        "elif num == 9:\n",
        "    print(\"9 en número romano es IX\")\n",
        "elif num == 10:\n",
        "    print(\"10 en número romano es X\")\n",
        "else:\n",
        "      print(\"Error: Ingrese un número que esté en el intervalo 1-10\")"
      ],
      "metadata": {
        "colab": {
          "base_uri": "https://localhost:8080/"
        },
        "id": "wBGdwNKzw5_d",
        "outputId": "bf3c8637-3ac2-43cb-c70c-43b637ed4cfc"
      },
      "execution_count": null,
      "outputs": [
        {
          "output_type": "stream",
          "name": "stdout",
          "text": [
            "Ingrese un número del 1 al 10: 15\n",
            "Error: Ingrese un número que esté en el intervalo 1-10\n"
          ]
        }
      ]
    },
    {
      "cell_type": "markdown",
      "source": [
        "#2. Áreas de Rectángulos  \n",
        "El área de un rectángulo se calcula multiplicando su longitud por su ancho. Diseña un programa que solicite la longitud y el ancho de dos rectángulos. El programa debe informar al usuario cuál de los rectángulos tiene un área mayor o si ambas áreas son iguales.\n",
        "\n",
        "```\n",
        "Program Area_rectagulo\n",
        "Start\n",
        "  Declare float long\n",
        "  Declare float anc\n",
        "  Declare float area\n",
        "  Declare float long2\n",
        "  Declare float anc2\n",
        "  Declare float area2\n",
        "\n",
        "  Display \"Ingrese la longitud del primer rectangulo\"\n",
        "  Input long\n",
        "\n",
        "  Display \"Ingrese el ancho del primer rectángulo\"\n",
        "  Input anc\n",
        "\n",
        "  Set area = long * anc\n",
        "\n",
        "  Display \"Ingrese la longitud del segundo rectangulo\"\n",
        "  Input long\n",
        "\n",
        "  Display \"Ingrese el ancho del segundo rectángulo\"\n",
        "  Input anc\n",
        "\n",
        "  Set area2 = long2 * anc2\n",
        "\n",
        "  If area == area2 Then\n",
        "    Display \"El área de los rectángulos es la misma\"\n",
        "\n",
        "  Elif area > area2 Then\n",
        "    Display \"El área del primer rextángulo es mayor\"\n",
        "\n",
        "  Else\n",
        "    Display \"El área del segundo rectángulo es mayor\"\n",
        "End\n",
        "```"
      ],
      "metadata": {
        "id": "JXL77CgSWs3M"
      }
    },
    {
      "cell_type": "code",
      "source": [
        "long = float(input(\"Ingrese la longitud del primer rectángulo: \"))\n",
        "anc = float(input(\"Ingrese el ancho del primer rectángulo: \"))\n",
        "area = long * anc\n",
        "long2 = float(input(\"Ingrese la longitud del segundo rectángulo: \"))\n",
        "anc2 = float(input(\"Ingrese el ancho del segundo rectángulo: \"))\n",
        "area2 = long2 * anc2\n",
        "\n",
        "if area == area2:\n",
        "    print(\"El área de los rectángulos es la misma\")\n",
        "elif area > area2:\n",
        "        print(\"El área del primer rectángulo es mayor\")\n",
        "else:\n",
        "    print(\"El área del segundo rectángulo es mayor\")"
      ],
      "metadata": {
        "id": "QocwLdwCY1qp",
        "outputId": "d53522bf-22fd-4209-e677-6fa7830fd2a0",
        "colab": {
          "base_uri": "https://localhost:8080/"
        }
      },
      "execution_count": null,
      "outputs": [
        {
          "output_type": "stream",
          "name": "stdout",
          "text": [
            "Ingrese la longitud del primer rectángulo: 23\n",
            "Ingrese el ancho del primer rectángulo: 55\n",
            "Ingrese la longitud del segundo rectángulo: 55\n",
            "Ingrese el ancho del segundo rectángulo: 23\n",
            "El área de los rectángulos es la misma\n"
          ]
        }
      ]
    },
    {
      "cell_type": "markdown",
      "source": [
        "# 3. Masa y Peso  \n",
        "Los científicos miden la masa de un objeto en kilogramos y su peso en Newtons. Si conoces la cantidad de masa de un objeto, puedes calcular su peso en Newtons con la siguiente fórmula:\n",
        "\n",
        "<br> *weight* = mass * 9.8\n",
        "\n",
        "<br> Diseña un programa que solicite al usuario ingresar la masa de un objeto y luego calcule su peso. Si el\n",
        "objeto pesa más de 1,000 Newtons, muestra un mensaje indicando que es demasiado pesado. Si el\n",
        "objeto pesa menos de 10 Newtons, muestra un mensaje indicando que es demasiado ligero.\n",
        "```\n",
        "Program Masa_peso\n",
        "Start\n",
        "  Declare float masa\n",
        "  Declare float peso\n",
        "\n",
        "  Display \"Ingrese la masa del objeto en kg\"\n",
        "  Input masa\n",
        "\n",
        "  Set peso = masa * 9.8\n",
        "\n",
        "  If peso >= 1000 Then\n",
        "  Display \"El objeto tiene un peso de\", peso, \"Newtons. Es demasiado pesado.\"\n",
        "  \n",
        "  Elif peso > 10  Then\n",
        "  Display \"El objeto tiene un peso de\". peso, \"Newtons.\"\n",
        "\n",
        "  Else\n",
        "  Display \"El objeto tiene un peso de\", peso, \"Newtons. Es demasiado ligero\"\n",
        "End\n",
        "```"
      ],
      "metadata": {
        "id": "kBPEPVwxZZKw"
      }
    },
    {
      "cell_type": "code",
      "source": [
        "masa = float(input(\"Ingrese la masa del objeto en kg: \"))\n",
        "peso = masa * 9.8\n",
        "\n",
        "if peso >= 1000:\n",
        "    print(\"El objeto tiene un peso de\", peso, \"Newtons. Es demasiado pesado.\")\n",
        "elif peso > 10:\n",
        "    print(\"El objeto tiene un peso de\", peso, \"Newtons.\")\n",
        "else:\n",
        "    print(\"El objeto tiene un peso de\", peso, \"Newtons. Es demasiado ligero.\")\n"
      ],
      "metadata": {
        "id": "NJbqfIRlbPnk",
        "outputId": "c56871e8-7769-4268-a799-6e0222b81150",
        "colab": {
          "base_uri": "https://localhost:8080/"
        }
      },
      "execution_count": null,
      "outputs": [
        {
          "output_type": "stream",
          "name": "stdout",
          "text": [
            "Ingrese la masa del objeto en kg: 1\n",
            "El objeto tiene un peso de 9.8 Newtons. Es demasiado ligero.\n"
          ]
        }
      ]
    },
    {
      "cell_type": "markdown",
      "source": [
        "#4. Fechas mágicas\n",
        "La fecha 10 de junio de 1960 es especial porque cuando se escribe en el siguiente formato, el mes multiplicado por el día es igual al año:\n",
        "\n",
        "<br> 6/10/60\n",
        "\n",
        "<br> Diseña un programa que solicite al usuario ingresar un mes (en formato numérico), un día y un año de\n",
        "dos dígitos. El programa debe determinar si el mes multiplicado por el día es igual al año. Si es así, debe mostrar un mensaje diciendo que la fecha es mágica. De lo contrario, debe mostrar un mensaje\n",
        "indicando que la fecha no es mágica.\n",
        "\n",
        "```\n",
        "Program Fechas_magicas\n",
        "Start\n",
        "  Declare int dia\n",
        "  Declare int mes\n",
        "  Declare int year\n",
        "\n",
        "  Display \"Ingrese un día\"\n",
        "  Input dia\n",
        "\n",
        "  Display \"Ingrese un mes\"\n",
        "  Input mes\n",
        "\n",
        "  Display \"Ingrese un año (los dos últimos digitos)\"\n",
        "  Input year\n",
        "\n",
        "  If (dia*mes) == year Then\n",
        "  Display \"La fecha ingresada es mágica\"\n",
        "\n",
        "  Else\n",
        "  Display \"La fecha ingresada no es mágica\"\n",
        "End\n",
        "```"
      ],
      "metadata": {
        "id": "YniqPJ_YbdRv"
      }
    },
    {
      "cell_type": "code",
      "source": [
        "dia = int(input(\"Ingrese un día: \"))\n",
        "mes = int(input(\"Ingrese un mes: \"))\n",
        "year = int(input(\"Ingrese un año (los dos últimos dígitos): \"))\n",
        "\n",
        "if (dia*mes) == year:\n",
        "    print(\"La fecha ingresada es mágica\")\n",
        "else:\n",
        "    print(\"La fecha ingresada no es mágica\")"
      ],
      "metadata": {
        "id": "TzUmule2ce8L",
        "outputId": "e0901ba7-7ebd-4f69-a1da-da9d4c4752cd",
        "colab": {
          "base_uri": "https://localhost:8080/"
        }
      },
      "execution_count": null,
      "outputs": [
        {
          "output_type": "stream",
          "name": "stdout",
          "text": [
            "Ingrese un día: 6\n",
            "Ingrese un mes: 10\n",
            "Ingrese un año (los dos últimos dígitos): 60\n",
            "La fecha ingresada es mágica\n"
          ]
        }
      ]
    },
    {
      "cell_type": "markdown",
      "source": [
        "# 5. Meclador de Colores\n",
        "Los colores rojo, azul y amarillo son conocidos como colores primarios porque no se pueden obtener\n",
        "mezclando otros colores. Cuando mezclas dos colores primarios, obtienes un color secundario, como\n",
        "se muestra aquí:\n",
        "* Cuando mezclas rojo y azul, obtienes púrpura.\n",
        "* Cuando mezclas rojo y amarillo, obtienes naranja.\n",
        "* Cuando mezclas azul y amarillo, obtienes verde.\n",
        "\n",
        "Diseña un programa que solicite al usuario ingresar los nombres de dos colores primarios para\n",
        "mezclarlos. Si el usuario ingresa algo diferente a \"rojo\", \"azul\" o \"amarillo\", el programa debe mostrar\n",
        "un mensaje de error. De lo contrario, el programa debe mostrar el nombre del color secundario\n",
        "resultante.  \n",
        "\n",
        "```\n",
        "Program Mezclador_colores\n",
        "Start\n",
        "  Declare str color1\n",
        "  Declare str color2\n",
        "\n",
        "  Display \"Ingrese uno de los 3 colores primarios\"\n",
        "  Input color1\n",
        "\n",
        "  Display \"Ingrese uno de los 3 colores primarios (diferente del primer ingresado)\"\n",
        "  Input color2\n",
        "\n",
        "  If color1 == \"rojo\" and color2 \"amarillo\" Then\n",
        "  Display \"La mezcla obtenida es naranja\"\n",
        "\n",
        "  Elif color1 == \"amarillo\" and color2 == \"rojo\"\n",
        "  Display \"La mezcla obtenida es naranja\"\n",
        "\n",
        "  Elif color1 == \"rojo\" and color2 == \"azul\" Then\n",
        "  Display \"La mezcla obtenida es púrpura\"\n",
        "\n",
        "  Elif color1 == \"azul\" and color2 == \"rojo\" Then\n",
        "  Display \"La mezcla obtenida es púrpura\"\n",
        "\n",
        "  Elif color1 == \"amarillo\" and color2 == \"azul\"\n",
        "  Display \"La mezcla obtenida es verde\"\n",
        "  \n",
        "  Elif color1 == \"azul\" and color2 == \"amarillo\"\n",
        "  Display \"La mezcla obtenida es verde\"\n",
        "\n",
        "  Else\n",
        "  Display \"Error\"\n",
        "  \n",
        "  End If\n",
        "End\n",
        "```"
      ],
      "metadata": {
        "id": "WKU3mcNScr2d"
      }
    },
    {
      "cell_type": "code",
      "source": [
        "color1 = input(\"Ingrese uno de los 3 colores primarios: \")\n",
        "color2 = input(\"Ingrese uno de los 3 colores primarios (diferente del primer ingresado): \")\n",
        "\n",
        "if color1 == \"rojo\" and color2 == \"amarillo\":\n",
        "    print(\"La mezcla obtenida es naranja\")\n",
        "elif color1 == \"amarillo\" and color2 == \"rojo\":\n",
        "    print(\"La mezcla obtenida es naranja\")\n",
        "elif color1 == \"rojo\" and color2 == \"azul\":\n",
        "    print(\"La mezcla obtenida es púrpura\")\n",
        "elif color1 == \"azul\" and color2 == \"rojo\":\n",
        "    print(\"La mezcla obtenida es púrpura\")\n",
        "elif color1 == \"amarillo\" and color2 == \"azul\":\n",
        "    print(\"La mezcla obtenida es verde\")\n",
        "elif color1 == \"azul\" and color2 == \"amarillo\":\n",
        "    print(\"La mezcla obtenida es verde\")\n",
        "else:\n",
        "    print(\"Error\")"
      ],
      "metadata": {
        "id": "bbvf0zIPfXJ6",
        "outputId": "d6dbe0a2-ba41-44a2-eb1e-c191f732b203",
        "colab": {
          "base_uri": "https://localhost:8080/"
        }
      },
      "execution_count": null,
      "outputs": [
        {
          "output_type": "stream",
          "name": "stdout",
          "text": [
            "Ingrese uno de los 3 colores primarios: rojo\n",
            "Ingrese uno de los 3 colores primarios (diferente del primer ingresado): azul\n",
            "La mezcla obtenida es morado\n"
          ]
        }
      ]
    },
    {
      "cell_type": "markdown",
      "source": [
        "# 6. Puntos del Club de Lectura  \n",
        "Serendipity Booksellers tiene un club de lectura que otorga puntos a sus clientes según la cantidad de\n",
        "libros comprados cada mes. Los puntos se otorgan de la siguiente manera:\n",
        "* Si un cliente compra 0 libros, gana 0 puntos.\n",
        "* Si un cliente compra 1 libro, gana 5 puntos.\n",
        "* Si un cliente compra 2 libros, gana 15 puntos.\n",
        "* Si un cliente compra 3 libros, gana 30 puntos.\n",
        "* Si un cliente compra 4 o más libros, gana 60 puntos.\n",
        "<br>\n",
        "\n",
        "Diseña un programa que solicite al usuario ingresar la cantidad de libros que ha comprado este mes y\n",
        "muestre el número de puntos otorgados.\n",
        "\n",
        "```\n",
        "Program Puntos_Club_lectura\n",
        "Start\n",
        "  Declare libros\n",
        "\n",
        "  Display \"Ingrese la cantidad de libros que ha comprado este mes\"\n",
        "  Input libros\n",
        "\n",
        "  If libros == 0 Then\n",
        "    Display \"0 puntos obtenidos.\"\n",
        "\n",
        "  Elif libros == 1 Then\n",
        "    Display \"5 puntos obtenidos\"\n",
        "\n",
        "  Elif libros == 2 Then\n",
        "    Display \"15 puntos obtenidos.\"\n",
        "\n",
        "  Elif libros == 3 Then\n",
        "   Display \"30 puntos obtenidos.\"\n",
        "\n",
        "  Elif libros >= 4\n",
        "    Display \"60 puntos obtenidos\"\n",
        "    \n",
        "  Else\n",
        "    Display \"Cantidad no válida de libros\"      \n",
        "End\n",
        "```"
      ],
      "metadata": {
        "id": "y6lyqj06gCa3"
      }
    },
    {
      "cell_type": "code",
      "source": [
        "libros = int(input(\"Ingrese la cantidad de libros que ha comprado este mes: \"))\n",
        "\n",
        "if libros == 0:\n",
        "    print(\"0 puntos obtenidos.\")\n",
        "elif libros == 1:\n",
        "    print(\"5 puntos obtenidos\")\n",
        "elif libros == 2:\n",
        "    print(\"15 puntos obtenidos.\")\n",
        "elif libros == 3:\n",
        "    print(\"30 puntos obtenidos.\")\n",
        "elif libros >= 4:\n",
        "    print(\"60 puntos obtenidos\")\n",
        "else:\n",
        "    print(\"Cantidad no válida de libros\")"
      ],
      "metadata": {
        "id": "f5QXWuWdjsKT",
        "outputId": "4ebfc5c6-6f83-4ad1-8bf0-923c689d7c10",
        "colab": {
          "base_uri": "https://localhost:8080/"
        }
      },
      "execution_count": null,
      "outputs": [
        {
          "output_type": "stream",
          "name": "stdout",
          "text": [
            "Ingrese la cantidad de libros que ha comprado este mes: -3\n",
            "Cantidad no válida de libros\n"
          ]
        }
      ]
    },
    {
      "cell_type": "markdown",
      "source": [
        "# 7. Ventas de Software\n",
        "Una compañía de software vende un paquete que se vende al por menor por $99. Se otorgan\n",
        "descuentos por cantidad según la siguiente tabla:\n",
        "* 10–19 unidades: 20% de descuento.\n",
        "* 20–49 unidades: 30% de descuento.\n",
        "* 50–99 unidades: 40% de descuento\n",
        "* 100 o más unidades: 50% de descuento\n",
        "<br>\n",
        "\n",
        "Diseña un programa que solicite al usuario ingresar la cantidad de paquetes comprados. El programa\n",
        "debe mostrar el monto del descuento (si lo hay) y el monto total de la compra después del descuento.\n",
        "\n",
        "```\n",
        "Program Ventas_software\n",
        "Start\n",
        "  Declare int packs\n",
        "  Declare float sin_desc\n",
        "  Declare float desc\n",
        "  Declare float total\n",
        "\n",
        "  Display \"Ingrese la canridad de paquetes comprados\"\n",
        "  Input packs\n",
        "\n",
        "  Set sin_desc = packs * 99\n",
        "\n",
        "  If packs < 10 Then\n",
        "  Display \"El valor a pagar es\", sin_desc\n",
        "\n",
        "  Elif packs >= 10 and packs <= 19 Then\n",
        "  Set desc = sin_desc * 0.2\n",
        "  Set total = sin_desc - desc\n",
        "  Display \"Un valor inicial a pagar de\", sin_desc\n",
        "  Display \"Con un descuento de\", desc\n",
        "  Display \"El total a pagar es\", total\n",
        "\n",
        "  Elif packs >= 20 and packs <= 49 Then\n",
        "  Set desc = sin_desc * 0.3\n",
        "  Set total = sin_desc - desc\n",
        "  Display \"Un valor inicial a pagar de\", sin_desc\n",
        "  Display \"Con un descuento de\", desc\n",
        "  Display \"El total a pagar es\", total\n",
        "\n",
        "  Elif packs >= 50 and packs <= 99 Then\n",
        "  Set desc = sin_desc * 0.4\n",
        "  Set total = sin_desc - desc\n",
        "  Display \"Un valor inicial a pagar de\", sin_desc\n",
        "  Display \"Con un descuento de\", desc\n",
        "  Display \"El total a pagar es\", total\n",
        "\n",
        "  Elif packs >= 100 Then\n",
        "  Set desc = sin_desc * 0.5\n",
        "  Set total = sin_desc - desc\n",
        "  Display \"Un valor inicial a pagar de\", sin_desc\n",
        "  Display \"Con un descuento de\", desc\n",
        "  Display \"El total a pagar es\", total\n",
        "\n",
        "  Else\n",
        "  Display \"Cantidad de páquetes inválida\"\n",
        "  \n",
        "  End If\n",
        "End\n",
        "```"
      ],
      "metadata": {
        "id": "FxZF4OydkJVU"
      }
    },
    {
      "cell_type": "code",
      "source": [
        "packs = int(input(\"Ingrese la cantidad de paquetes comprados: \"))\n",
        "sin_desc = packs * 99\n",
        "\n",
        "if packs < 10:\n",
        "    print(\"El total a pagar es\", sin_desc)\n",
        "\n",
        "elif packs >= 10 and packs <= 19:\n",
        "    desc = sin_desc * 0.2\n",
        "    total = sin_desc - desc\n",
        "    print(\"Un valor inicial a pagar de\", sin_desc)\n",
        "    print(\"Con un descuento de\", desc)\n",
        "    print(\"El total a pagar es\", total)\n",
        "\n",
        "elif packs >= 20 and packs <= 49:\n",
        "    desc = sin_desc * 0.3\n",
        "    total = sin_desc - desc\n",
        "    print(\"Un valor inicial a pagar de\", sin_desc)\n",
        "    print(\"Con un descuento de\", desc)\n",
        "    print(\"El total a pagar es\", total)\n",
        "\n",
        "elif packs >= 50 and packs <= 99:\n",
        "    desc = sin_desc * 0.4\n",
        "    total = sin_desc - desc\n",
        "    print(\"Un valor inicial a pagar de\", sin_desc)\n",
        "    print(\"Con un descuento de\", desc)\n",
        "    print(\"El total a pagar es\", total)\n",
        "\n",
        "elif packs >= 100:\n",
        "    desc = sin_desc * 0.5\n",
        "    total = sin_desc - desc\n",
        "    print(\"Un valor inicial a pagar de\", sin_desc)\n",
        "    print(\"Con un descuento de\", desc)\n",
        "    print(\"El total a pagar es\", total)\n",
        "\n",
        "else:\n",
        "    print(\"Cantidad de paquetes inválida\")"
      ],
      "metadata": {
        "id": "M-Yz2eH8m4Ro",
        "outputId": "0b589614-76ae-40ad-beee-78c9180586ce",
        "colab": {
          "base_uri": "https://localhost:8080/"
        }
      },
      "execution_count": null,
      "outputs": [
        {
          "output_type": "stream",
          "name": "stdout",
          "text": [
            "Ingrese la cantidad de paquetes comprados: 10\n",
            "Un valor inicial a pagar de 990\n",
            "Con un descuento de 198.0\n",
            "El total a pagar es 792.0\n"
          ]
        }
      ]
    },
    {
      "cell_type": "markdown",
      "source": [
        "#8. Juego del Cambio para un Dólar  \n",
        "Diseña un juego de contar cambio que solicite al usuario ingresar la cantidad de monedas necesarias\n",
        "para hacer exactamente un dólar. El programa debe pedir al usuario que ingrese la cantidad de\n",
        "centavos, monedas de cinco centavos, monedas de diez centavos y monedas de veinticinco centavos.\n",
        "Si el valor total de las monedas ingresadas es igual a un dólar, el programa debe felicitar al usuario por\n",
        "ganar el juego. De lo contrario, el programa debe mostrar un mensaje indicando si la cantidad\n",
        "ingresada fue mayor o menor que un dólar.\n",
        "\n",
        "```\n",
        "Program Juego_CambioDolar\n",
        "Start\n",
        "  Declare int cent\n",
        "  Declare int cent5\n",
        "  Declare int cent10\n",
        "  Declare int cent25\n",
        "  Declare int dolar\n",
        "  \n",
        "  Display \"Ingrese el   número de monedas de un centavo\"\n",
        "  Input cent\n",
        "\n",
        "  Display \"Ingrese el   número de monedas de cinco centavos\"\n",
        "  Input cent5\n",
        "\n",
        "  Display \"Ingrese el   número de monedas de 10 centavos\"\n",
        "  Input cent10\n",
        "\n",
        "  Display \"Ingrese el   número de monedas de veinticinco centavo\"\n",
        "  Input cent25\n",
        "\n",
        "  Set dolar = (1 * cent) + (5 * cent5) + (10 * cent10) + (25 * cent25)\n",
        "\n",
        "  If dolar = 100 Then\n",
        "  Display \"Felicidades, ha ganado el juego\"\n",
        "\n",
        "  Elif dolar > 100 Then\n",
        "  Display \"La cantidad de monedas ingresadas excede a un dólar\"\n",
        "\n",
        "  Else\n",
        "  Display \"La cantidad de monedas ingresadas es menor\"\n",
        "  \n",
        "  End If\n",
        "End\n",
        "```"
      ],
      "metadata": {
        "id": "hwJ2NAxBSacx"
      }
    },
    {
      "cell_type": "code",
      "source": [
        "cent = int(input(\"Ingrese el número de monedas de un centavo: \"))\n",
        "cent5 = int(input(\"Ingrese el número de monedas de cinco centavos: \"))\n",
        "cent10 = int(input(\"Ingrese el número de monedas de 10 centavos: \"))\n",
        "cent25 = int(input(\"Ingrese el número de monedas de veinticinco centavo: \"))\n",
        "\n",
        "dolar = (1 * cent) + (5 * cent5) + (10 * cent10) + (25 * cent25)\n",
        "\n",
        "if dolar == 100:\n",
        "    print(\"Felicidades, ha ganado el juego\")\n",
        "elif dolar > 100:\n",
        "    print(\"La cantidad de monedas ingresadas excede a un dólar\")\n",
        "else:\n",
        "    print(\"La cantidad de monedas ingresadas es menor\")"
      ],
      "metadata": {
        "id": "ktMR28pNSpNH",
        "outputId": "ebb3813d-990f-4f7e-b827-ddae5b9d0fa9",
        "colab": {
          "base_uri": "https://localhost:8080/"
        }
      },
      "execution_count": null,
      "outputs": [
        {
          "output_type": "stream",
          "name": "stdout",
          "text": [
            "Ingrese el número de monedas de un centavo: 50\n",
            "Ingrese el número de monedas de cinco centavos: 1\n",
            "Ingrese el número de monedas de 10 centavos: 2\n",
            "Ingrese el número de monedas de veinticinco centavo: 1\n",
            "Felicidades, ha ganado el juego\n"
          ]
        }
      ]
    },
    {
      "cell_type": "markdown",
      "source": [
        "# 9. Cargos por Envío  \n",
        "La Compañía de Envíos Fast Freight cobra las siguientes tarifas:\n",
        "\n",
        "* Peso del paquete: 2 libras o menos, tarifa: $1.10 por libra.\n",
        "\n",
        "* Peso del paquete: Más de 2 libras, pero no más de 6 libras, tarifa: $2.20 por libra.\n",
        "\n",
        "* Peso del paquete: Más de 6 libras, pero no más de 10 libras, tarifa: $3.70 por libra.\n",
        "\n",
        "* Peso del paquete: Más de 10 libras, tarifa: $3.80 por libra.\n",
        "<br>\n",
        "\n",
        "Diseña un programa que solicite al usuario ingresar el peso de un paquete y luego muestre los cargos\n",
        "por envío.\n",
        "\n",
        "```\n",
        "Program Cargos_envio\n",
        "Start\n",
        "  Declare float peso\n",
        "  Declare float cargos\n",
        "\n",
        "  Display \"Ingrese el peso del paquete en libras\"\n",
        "  Input peso\n",
        "\n",
        "  If peso > 10 Then\n",
        "  Set cargos = peso * 3.80\n",
        "  Display \"Los cargos por envío son:\", cargos, \"dólares.\"\n",
        "\n",
        "  Elif peso > 6 Then\n",
        "  Set cargos = peso * 3.70\n",
        "  Display \"Los cargos por envío son:\", cargos, \"dólares.\"\n",
        "\n",
        "  Elif peso > 2 Then\n",
        "  Set cargos = peso * 2.20\n",
        "  Display \"Los cargos por envío son:\", cargos, \"dólares.\"\n",
        "\n",
        "  Elif peso > 0 Then\n",
        "  Set cargos = peso * 1.10\n",
        "  Display \"Los cargos por envío son:\", cargos, \"dólares.\"\n",
        "\n",
        "  Else\n",
        "  Display \"Peso en libras no válido\"\n",
        "End\n",
        "```"
      ],
      "metadata": {
        "id": "vlE4eiyFchdT"
      }
    },
    {
      "cell_type": "code",
      "source": [
        "peso = float(input(\"Ingrese el peso del paquete en libras: \"))\n",
        "\n",
        "if peso > 10:\n",
        "  cargos = peso *3.80\n",
        "  print(\"Los cargos por envío son:\", cargos, \"dólares.\")\n",
        "elif peso > 6:\n",
        "  cargos = peso * 3.70\n",
        "  print(\"Los cargos por envío son:\", cargos, \"dólares.\")\n",
        "elif peso > 2:\n",
        "  cargos = peso * 2.20\n",
        "  print(\"Los cargos por envío son:\", cargos, \"dólares.\")\n",
        "elif peso > 0:\n",
        "  cargos = peso * 1.10\n",
        "  print(\"Los cargos por envío son:\", cargos, \"dólares.\")\n",
        "else:\n",
        "  print(\"Peso en libras no válido\")\n"
      ],
      "metadata": {
        "id": "pjG6XQYifTD5",
        "outputId": "3808adc8-0f9a-4f83-9b11-218d352236ff",
        "colab": {
          "base_uri": "https://localhost:8080/"
        }
      },
      "execution_count": null,
      "outputs": [
        {
          "output_type": "stream",
          "name": "stdout",
          "text": [
            "Ingrese el peso del paquete: 2\n",
            "Los cargos por envío son: 2.2 dólares.\n"
          ]
        }
      ]
    },
    {
      "cell_type": "markdown",
      "source": [
        "# 10. Mejora del Programa de Índice de Masa Corporal  \n",
        "El IMC de una persona se calcula con la siguiente fórmula:\n",
        "<br>\n",
        "\n",
        "IMC = (𝑤𝑒𝑖𝑔ℎ𝑡× 703) / (ℎ𝑒𝑖𝑔ℎ𝑡^2)\n",
        "<br> En la fórmula, el peso (weight) se mide en libras y la altura (height) en pulgadas\n",
        "\n",
        "\n",
        "Mejora el programa para que muestre un mensaje indicando si la persona tiene un peso óptimo, si está por debajo del peso o si tiene sobrepeso. Se considera que el peso de una persona sedentaria es óptimo si su IMC está entre 18.5 y 25. Si el IMC es menor de 18.5, se considera que la persona está\n",
        "por debajo del peso. Si el valor del IMC es mayor de 25, se considera que la persona tiene sobrepeso.\n",
        "\n",
        "```\n",
        "Porgram Indice_masaCorporal\n",
        "Start\n",
        "  Declare float peso\n",
        "  Declare float altura\n",
        "  Declare float imc\n",
        "\n",
        "  Display \"Ingrese su peso en libras\"\n",
        "  Input peso\n",
        "\n",
        "  Display \"Ingrese su altura en pulgadas\"\n",
        "  Input altura\n",
        "\n",
        "  Set imc = (peso * 703) / altura ^ 2\n",
        "\n",
        "  If imc > 25 Then\n",
        "  Display \"Tiene un peso mayor al ideal segun el IMC, tiene sobrepeso\"\n",
        "\n",
        "  Elif imc >= 18.5 and imc <= 25 Then\n",
        "  Display \"Tiene un peso óptimo según su IMC\"\n",
        "\n",
        "  Elif imc > 0 Then\n",
        "  Display \"Está por debajo del peso ideal según el IMC\"\n",
        "\n",
        "  Else\n",
        "  Display \"Datos ingresados no válidos\"\n",
        "End\n",
        "```\n",
        "\n"
      ],
      "metadata": {
        "id": "2ERsDE9Utt_r"
      }
    },
    {
      "cell_type": "code",
      "source": [
        "peso = float(input(\"Ingrese su peso en libras: \"))\n",
        "altura = float(input(\"Ingrese su altura en pulgadas: \"))\n",
        "\n",
        "imc = (peso * 703) / altura ** 2\n",
        "\n",
        "if imc > 25:\n",
        "    print(\"Tiene un peso mayor al ideal según el IMC, tiene sobrepeso\")\n",
        "elif imc >= 18.5 and imc <= 25:\n",
        "    print(\"Tiene un peso óptimo según su IMC\")\n",
        "elif imc > 0:\n",
        "    print(\"Está por debajo del peso ideal según el IMC\")\n",
        "else:\n",
        "    print(\"Datos ingresados no válidos\")\n",
        "\n"
      ],
      "metadata": {
        "id": "Wb_gZg5ZwM4B",
        "outputId": "d32b563b-fb1d-4a17-fa64-b974364017be",
        "colab": {
          "base_uri": "https://localhost:8080/"
        }
      },
      "execution_count": 6,
      "outputs": [
        {
          "output_type": "stream",
          "name": "stdout",
          "text": [
            "Ingrese su peso en libras: 120\n",
            "Ingrese su altura en pulgadas: 63\n",
            "Tiene un peso óptimo según su IMC\n"
          ]
        }
      ]
    }
  ]
}