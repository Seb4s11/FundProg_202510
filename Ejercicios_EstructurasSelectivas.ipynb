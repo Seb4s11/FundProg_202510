{
  "nbformat": 4,
  "nbformat_minor": 0,
  "metadata": {
    "colab": {
      "provenance": [],
      "authorship_tag": "ABX9TyPSIwK1521nm9m5bkXAsEQA",
      "include_colab_link": true
    },
    "kernelspec": {
      "name": "python3",
      "display_name": "Python 3"
    },
    "language_info": {
      "name": "python"
    }
  },
  "cells": [
    {
      "cell_type": "markdown",
      "metadata": {
        "id": "view-in-github",
        "colab_type": "text"
      },
      "source": [
        "<a href=\"https://colab.research.google.com/github/Seb4s11/FundProg_202510/blob/main/Ejercicios_EstructurasSelectivas.ipynb\" target=\"_parent\"><img src=\"https://colab.research.google.com/assets/colab-badge.svg\" alt=\"Open In Colab\"/></a>"
      ]
    },
    {
      "cell_type": "markdown",
      "source": [
        "```\n",
        "Program Numeros_romanos\n",
        "Start\n",
        "  Declare num\n",
        "\n",
        "  Display \"Ingrese un número del 1 al 10\"\n",
        "  Input num\n",
        "\n",
        "  If num = 1 Then\n",
        "  Display \"1 en número romano es I\"\n",
        "\n",
        "    Else If num = 2 Then\n",
        "    Display \"2 en número romano es II\"\n",
        "\n",
        "    Else If num = 3 Then\n",
        "    Display \"3 en número romano es III\"\n",
        "\n",
        "    Else If num = 4 Then\n",
        "    Display \"4 en número romano es IV\"\n",
        "\n",
        "    Else If num = 5 Then\n",
        "    Display \"5 en número romano es V\"\n",
        "\n",
        "    Else If num = 6 Then\n",
        "    Display \"6 en número romano es VI\"\n",
        "\n",
        "    Else If num = 7 Then\n",
        "    Display \"7 en número romano es VII\"\n",
        "\n",
        "    Else If num = 8 Then\n",
        "    Display \"8 en número romano es VII\"\n",
        "\n",
        "    Else If num = 9 Then\n",
        "    Display \"9 en número romano es IX\"\n",
        "\n",
        "    Else If num = 10 Then\n",
        "    Display \"10 en número romano es X\"\n",
        "\n",
        "    Else\n",
        "    Display \"Error: Ingrese un número que esté en el intervalo 1-10\"\n",
        "  End If\n",
        "End\n",
        "```"
      ],
      "metadata": {
        "id": "xvRC6jcmva8e"
      }
    },
    {
      "cell_type": "code",
      "source": [
        "num = int(input(\"Ingrese un número del 1 al 10: \"))\n",
        "\n",
        "if num == 1:\n",
        "    print(\"1 en número romano es I\")\n",
        "elif num == 2:\n",
        "    print(\"2 en número romano es II\")\n",
        "elif num == 3:\n",
        "    print(\"3 en número romano es III\")\n",
        "elif num == 4:\n",
        "    print(\"4 en número romano es IV\")\n",
        "elif num == 5:\n",
        "    print(\"5 en número romano es V\")\n",
        "elif num == 6:\n",
        "      print(\"6 en número romano es VI\")\n",
        "elif num == 7:\n",
        "    print(\"7 en número romano es VII\")\n",
        "elif num == 8:\n",
        "      print(\"8 en número romano es VIII\")\n",
        "elif num == 9:\n",
        "    print(\"9 en número romano es IX\")\n",
        "elif num == 10:\n",
        "    print(\"10 en número romano es X\")\n",
        "else:\n",
        "      print(\"Error: Ingrese un número que esté en el intervalo 1-10\")"
      ],
      "metadata": {
        "colab": {
          "base_uri": "https://localhost:8080/"
        },
        "id": "wBGdwNKzw5_d",
        "outputId": "bf3c8637-3ac2-43cb-c70c-43b637ed4cfc"
      },
      "execution_count": 4,
      "outputs": [
        {
          "output_type": "stream",
          "name": "stdout",
          "text": [
            "Ingrese un número del 1 al 10: 15\n",
            "Error: Ingrese un número que esté en el intervalo 1-10\n"
          ]
        }
      ]
    }
  ]
}