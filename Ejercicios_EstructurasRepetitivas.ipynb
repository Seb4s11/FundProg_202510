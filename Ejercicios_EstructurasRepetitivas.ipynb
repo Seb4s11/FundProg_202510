{
  "nbformat": 4,
  "nbformat_minor": 0,
  "metadata": {
    "colab": {
      "provenance": [],
      "authorship_tag": "ABX9TyN8MKt9/puhV6LkAEpQRU2Z",
      "include_colab_link": true
    },
    "kernelspec": {
      "name": "python3",
      "display_name": "Python 3"
    },
    "language_info": {
      "name": "python"
    }
  },
  "cells": [
    {
      "cell_type": "markdown",
      "metadata": {
        "id": "view-in-github",
        "colab_type": "text"
      },
      "source": [
        "<a href=\"https://colab.research.google.com/github/Seb4s11/FundProg_202510/blob/main/Ejercicios_EstructurasRepetitivas.ipynb\" target=\"_parent\"><img src=\"https://colab.research.google.com/assets/colab-badge.svg\" alt=\"Open In Colab\"/></a>"
      ]
    },
    {
      "cell_type": "markdown",
      "source": [
        "#1. Coleccionista de Insectos\n",
        "Un coleccionista de insectos recoge insectos cada día durante siete días. Diseña un programa que mantenga un total acumulado del número de insectos recogidos durante esos siete días. El ciclo debe pedir el número de insectos recolectados cada día, y al finalizar, el programa debe mostrar el total de\n",
        "insectos recolectados.\n",
        "```\n",
        "Program Coleccionista_insectos\n",
        "Start\n",
        "  Declare int[] dias = [1, 2, 3, 4, 5, 6, 7]\n",
        "  Declare int num_insec\n",
        "  Declare int total = 0\n",
        "\n",
        "  Display \"Programa para saber cuantos insectos se recolectaron en 7 días\"\n",
        "  \n",
        "  For int c = 0 To dias -1\n",
        "     Set c += 1\n",
        "     Display \"Ingrese el número de insectos recolectados en el día \" + str(c)+ \": \"\n",
        "     Input num_insec\n",
        "     Set total += num_insec\n",
        "  End For\n",
        "\n",
        "  Display \"El número total de insectos recolectados es:\", total\n",
        "End\n",
        "```"
      ],
      "metadata": {
        "id": "1vFVTpUB1FxL"
      }
    },
    {
      "cell_type": "code",
      "source": [
        "dias = [1, 2, 3, 4, 5, 6, 7] #Lista de los días en que recolectó insectos\n",
        "num_insec = 0 #Número de insectos que recolecta por día\n",
        "total = 0 #Suma de los insectos\n",
        "\n",
        "print(\"Programa para saber cuantos insectos se recolectaron en 7 días\\n\") #Mostrar un texto guía antes del ingreso de los datos\n",
        "for c in range(len(dias)):\n",
        "    c += 1\n",
        "    num_insec = int(input(\"Ingrese el número de insectos recolectados en el día \" + str(c) + \": \")) #Pedir el número de insectos recolectados al usuario\n",
        "    total += num_insec #Sumar los insectos recolectados por cada día\n",
        "\n",
        "print(\"\\nEl número total de insectos recolectados es:\", total) #Mostrar el total de insectos recolectados al usuario"
      ],
      "metadata": {
        "id": "13KhVn1kQs_P",
        "outputId": "a2a5eef2-d284-44d7-befa-df6178916465",
        "colab": {
          "base_uri": "https://localhost:8080/"
        }
      },
      "execution_count": 48,
      "outputs": [
        {
          "output_type": "stream",
          "name": "stdout",
          "text": [
            "Programa para saber cuantos insectos se recolectaron en 7 días\n",
            "\n",
            "Ingrese el número de insectos recolectados en el día 1: 5\n",
            "Ingrese el número de insectos recolectados en el día 2: 5\n",
            "Ingrese el número de insectos recolectados en el día 3: 77\n",
            "Ingrese el número de insectos recolectados en el día 4: 20\n",
            "Ingrese el número de insectos recolectados en el día 5: 0\n",
            "Ingrese el número de insectos recolectados en el día 6: 2\n",
            "Ingrese el número de insectos recolectados en el día 7: 2\n",
            "\n",
            "El número total de insectos recolectados es: 111\n"
          ]
        }
      ]
    },
    {
      "cell_type": "markdown",
      "source": [
        "#2. Calorías quemadas\n",
        "Corriendo en una cinta específica quemas 3.9 calorías por minuto. Diseña un programa que use un ciclo para mostrar el número de calorías quemadas después de 10, 15, 20, 25 y 30 minutos.\n",
        "```\n",
        "Program Calorias_quemadas\n",
        "Start\n",
        "  Declare const cal_quem = 3.9\n",
        "  Declare float total_cal = 0\n",
        "  Declare int[] mins = [10, 15, 20, 25, 30]\n",
        "\n",
        "  Display \"Programa para saber las calorías quemadas en ciertos intervalos de tiempo\"\n",
        "\n",
        "  For int c = 0 To mins -1\n",
        "     Set total_cal = cal_quem * mins(c)\n",
        "     Display \"Las calorías quemadas luego de\", mins(c), \"minutos son:\" total_cal\n",
        "  End For\n",
        "End\n",
        "```"
      ],
      "metadata": {
        "id": "ZY7NQohhbOxz"
      }
    },
    {
      "cell_type": "code",
      "source": [
        "cal_quem = 3.9 #Calorías quemadas por min\n",
        "total_cal = 0 #Variable para guardar las  calorías quemadas por cada intervalo de tiempo\n",
        "mins = [10, 15, 20, 25, 30] #Lista de los minutos a los cuales se les calculará las calorías por minuto\n",
        "print(\"Programa para saber las calorías quemadas en ciertos intervalos de tiempo\\n\") #Mostrar un texto guía antes del ingreso de los datos\n",
        "\n",
        "for c in range(len(mins)):\n",
        "    total_cal = cal_quem * mins[c] #Calorías consumidas dependiendo el minuto escogido\n",
        "    print(\"Las calorías quemadas luego de\", mins[c], \"minutos son:\", total_cal) #Mostrar las calorías quemadas dependiendo los minutos"
      ],
      "metadata": {
        "id": "Nq05zhc5iR48",
        "outputId": "a1d44368-04d8-4e74-c555-e48295acd79f",
        "colab": {
          "base_uri": "https://localhost:8080/"
        }
      },
      "execution_count": null,
      "outputs": [
        {
          "output_type": "stream",
          "name": "stdout",
          "text": [
            "Las calorías quemadas luego de 10 minutos son: 39.0\n",
            "Las calorías quemadas luego de 15 minutos son: 58.5\n",
            "Las calorías quemadas luego de 20 minutos son: 78.0\n",
            "Las calorías quemadas luego de 25 minutos son: 97.5\n",
            "Las calorías quemadas luego de 30 minutos son: 117.0\n"
          ]
        }
      ]
    },
    {
      "cell_type": "markdown",
      "source": [
        "#3. Análisis de Presupuesto\n",
        "Diseña un programa que pida al usuario ingresar la cantidad de dinero que ha presupuestado para un\n",
        "mes. Luego, en un ciclo, el programa debe pedirle al usuario que ingrese cada uno de sus gastos y\n",
        "mantener un total acumulado. Cuando el ciclo termine, el programa debe mostrar si el usuario se\n",
        "pasó o quedó por debajo de su presupuesto.\n",
        "```\n",
        "Program Analisis_presupuesto\n",
        "Start\n",
        "  Declare float presupuesto\n",
        "  Declare float c_gast\n",
        "  Declare float gastos\n",
        "  Declare float total = 0\n",
        "\n",
        "  Display \"Programa para saber si sus gatos se pasan o quedan por debajo de su presupuesto\"\n",
        "\n",
        "  Display \"Ingrese la cantidad de dinero que tiene presupuestada para el mes\"\n",
        "  Input presupuesto\n",
        "\n",
        "  Display \"Ingrese la cantidad de gastos que tiene\"\n",
        "  Input c_gast\n",
        "\n",
        "  For c = 0 To c_gast -1\n",
        "    Set c += 1\n",
        "    Display \"Ingrese su gasto número\", str[c], \": \"\n",
        "    Input gastos\n",
        "    Set total += gastos\n",
        "  End For\n",
        "\n",
        "  Display \"El total acumulado de sus gastos es:\", total\n",
        "\n",
        "  If total == presupuesto Then\n",
        "    Display \"El total acumulado de sus gastos es igual a su presupuesto\"\n",
        "  Elif total < presupuesto Then\n",
        "    Display \"El total acumulado de sus gastos quedó por debajo de su presupuesto (le alcanza)\"\n",
        "  Else\n",
        "    Display \"El total acumulado de sus gastos pasó a su presupuesto (no le alcanza)\"\n",
        "  End If\n",
        "End\n",
        "```"
      ],
      "metadata": {
        "id": "J-7Egvgqj4uQ"
      }
    },
    {
      "cell_type": "code",
      "source": [
        "total = 0\n",
        "\n",
        "print(\"Programa para saber si sus gatos se pasan o quedan por debajo de su presupuesto\\n\") #Mostrar un texto guía antes del ingreso de los datos\n",
        "#Pedir al usuario el presupuesto y la cantidad de gastos\n",
        "presupuesto = float(input(\"Ingrese la cantidad de dinero que tiene presupuestada para el mes: \")) #Pedir al usuario el presupuesto\n",
        "c_gast =  float(input(\"Ingrese la cantidad de gastos que tiene: \")) #Pedir al usuario la cantidad de gastos\n",
        "\n",
        "for c in range(int(c_gast)):\n",
        "    c += 1\n",
        "    gastos = float(input(\"Ingrese su gasto número \" + str(c) + \": \")) #Pedir al usuario los gastos\n",
        "    total += gastos\n",
        "\n",
        "print(\"\\nEl total acumulado de sus gastos es:\", total) #Mostrar el total acumulado de los gastos\n",
        "\n",
        "if total == presupuesto:\n",
        "    print(\"El total acumulado de sus gastos es igual a su presupuesto\") #Mostrar si el total acumulado de los gastos es igual al presupuesto\n",
        "\n",
        "elif total < presupuesto:\n",
        "    print(\"El total acumulado de sus gastos quedó por debajo de su presupuesto (le alcanza)\") #Mostrar si el total acumulado de los gastos es menor al presupuesto\n",
        "\n",
        "else :\n",
        "    print(\"El total acumulado de sus gastos pasó a su presupuesto (no le alcanza)\") #Mostrar si el total acumulado de los gastos es mayor al presupuesto"
      ],
      "metadata": {
        "id": "LnL7pPezp3Ge",
        "outputId": "bb931708-0645-4b11-8ce8-06722fbea048",
        "colab": {
          "base_uri": "https://localhost:8080/"
        }
      },
      "execution_count": 49,
      "outputs": [
        {
          "output_type": "stream",
          "name": "stdout",
          "text": [
            "Programa para saber si sus gatos se pasan o quedan por debajo de su presupuesto\n",
            "\n",
            "Ingrese la cantidad de dinero que tiene presupuestada para el mes: 3\n",
            "Ingrese la cantidad de gastos que tiene: 5\n",
            "Ingrese su gasto número 1: 6\n",
            "Ingrese su gasto número 2: 7\n",
            "Ingrese su gasto número 3: 8\n",
            "Ingrese su gasto número 4: 7\n",
            "Ingrese su gasto número 5: 5\n",
            "\n",
            "El total acumulado de sus gastos es: 33.0\n",
            "El total acumulado de sus gastos pasó a su presupuesto (no le alcanza)\n"
          ]
        }
      ]
    },
    {
      "cell_type": "markdown",
      "source": [
        "#4. Suma de Números  \n",
        "Diseña un programa con un ciclo que le pida al usuario ingresar una serie de números positivos. El usuario debe ingresar un número negativo para indicar que ha terminado de ingresar números.cDespués de que se hayan ingresado todos los números positivos, el programa debe mostrar la suma de todos ellos.\n",
        "```\n",
        "Program Suma_numeros\n",
        "Start\n",
        "  Declare float suma = 0\n",
        "  Declare float numero\n",
        "\n",
        "  Display \"Programa para sumar números positivos\"\n",
        "  \n",
        "  Display \"Ingresa un número positivo (si ingresa uno negativo, la suma dará 0 y el programa finalizará): \"\n",
        "  Input numero\n",
        "\n",
        "  While numero >=0\n",
        "    Set suma += numero\n",
        "    Display \"Ingresa un número positivo (o un número negativo para terminar)\"\n",
        "    Input numero\n",
        "  End While\n",
        "\n",
        "  Display \"La suma total de los números ingresados es:\", suma\n",
        "End\n",
        "```"
      ],
      "metadata": {
        "id": "wszgzJ139gcE"
      }
    },
    {
      "cell_type": "code",
      "source": [
        "suma = 0 #Inicializar la suma\n",
        "\n",
        "print(\"Programa para sumar números positivos\\n\") #Mostrar un texto guía antes del ingreso de los datos\n",
        "numero = float(input(\"Ingresa un número positivo (si ingresa uno negativo, la suma dará 0 y el programa finalizará): \")) #Pedir al usuario un número positivo\n",
        "\n",
        "while numero >= 0:\n",
        "    suma += numero #Sumar los números ingresados por el usuario\n",
        "    numero = float(input(\"Ingresa un número positivo (o un número negativo para terminar): \")) #Pedir al usuario un número positivo o negativo para finalizar\n",
        "\n",
        "print(\"\\nLa suma total de los números ingresados es:\", suma) #Mostrar la suma total de los números ingresados por el usuario"
      ],
      "metadata": {
        "id": "7BnG-TCK-L46",
        "outputId": "60cfd93e-46a1-4db8-958f-45d27f669d22",
        "colab": {
          "base_uri": "https://localhost:8080/"
        }
      },
      "execution_count": 51,
      "outputs": [
        {
          "output_type": "stream",
          "name": "stdout",
          "text": [
            "Programa para sumar números positivos\n",
            "\n",
            "Ingresa un número positivo (si ingresa uno negativo, la suma dará 0 y el programa finalizará): 4\n",
            "Ingresa un número positivo (o un número negativo para terminar): 5\n",
            "Ingresa un número positivo (o un número negativo para terminar): 5\n",
            "Ingresa un número positivo (o un número negativo para terminar): 5\n",
            "Ingresa un número positivo (o un número negativo para terminar): -2\n",
            "\n",
            "La suma total de los números ingresados es: 19.0\n"
          ]
        }
      ]
    }
  ]
}