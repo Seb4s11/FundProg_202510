{
  "nbformat": 4,
  "nbformat_minor": 0,
  "metadata": {
    "colab": {
      "provenance": [],
      "authorship_tag": "ABX9TyOcR46FKh37AG8ZFbz02sJe",
      "include_colab_link": true
    },
    "kernelspec": {
      "name": "python3",
      "display_name": "Python 3"
    },
    "language_info": {
      "name": "python"
    }
  },
  "cells": [
    {
      "cell_type": "markdown",
      "metadata": {
        "id": "view-in-github",
        "colab_type": "text"
      },
      "source": [
        "<a href=\"https://colab.research.google.com/github/Seb4s11/FundProg_202510/blob/main/Ejercicios_EstructurasRepetitivas.ipynb\" target=\"_parent\"><img src=\"https://colab.research.google.com/assets/colab-badge.svg\" alt=\"Open In Colab\"/></a>"
      ]
    },
    {
      "cell_type": "markdown",
      "source": [
        "#1er Ejercicio\n",
        "Un coleccionista de insectos recoge insectos cada día durante siete días. Diseña un programa que mantenga un total acumulado del número de insectos recogidos durante esos siete días. El ciclo debe pedir el número de insectos recolectados cada día, y al finalizar, el programa debe mostrar el total de\n",
        "insectos recolectados.\n",
        "```\n",
        "Program Coleccionista_insectos\n",
        "Start\n",
        "  Declare int[] dias\n",
        "  Declare int num_insec\n",
        "  Declare int total = 0\n",
        "\n",
        "  Set dias = 1, 2, 3, 4, 5, 6, 7\n",
        "\n",
        "  For int c = 0 To dias -1\n",
        "     Set c += 1\n",
        "     Display \"Ingrese el número de insectos recolectados en el día \" + str(c)+ \": \"\n",
        "     Input num_insec\n",
        "     Set total += num_insec\n",
        "  End For\n",
        "\n",
        "  Display \"El número total de insectos recolectados es:\", total\n",
        "End\n",
        "```"
      ],
      "metadata": {
        "id": "1vFVTpUB1FxL"
      }
    },
    {
      "cell_type": "code",
      "source": [
        "dias = [1, 2, 3, 4, 5, 6, 7] #Lista de los días en que recolectó insectos\n",
        "num_insec = 0 #Número de insectos que recolecta por día\n",
        "total = 0 #Suma de los insectos\n",
        "\n",
        "for c in range(len(dias)):\n",
        "    c += 1\n",
        "    num_insec = int(input(\"Ingrese el número de insectos recolectados en el día \" + str(c) + \": \")) #Pedir el número de insectos recolectados al usuario\n",
        "    total += num_insec #Sumar los insectos recolectados por cada día\n",
        "\n",
        "print(\"\\nEl número total de insectos recolectados es:\", total) #Mostrar el total de insectos recolectados al usuario"
      ],
      "metadata": {
        "id": "13KhVn1kQs_P",
        "outputId": "f456e500-7a52-46c4-c177-f44e52e6a566",
        "colab": {
          "base_uri": "https://localhost:8080/"
        }
      },
      "execution_count": 18,
      "outputs": [
        {
          "output_type": "stream",
          "name": "stdout",
          "text": [
            "Ingrese el número de insectos recolectados en el día 1: 3\n",
            "Ingrese el número de insectos recolectados en el día 2: 5\n",
            "Ingrese el número de insectos recolectados en el día 3: 7\n",
            "Ingrese el número de insectos recolectados en el día 4: 4\n",
            "Ingrese el número de insectos recolectados en el día 5: 2\n",
            "Ingrese el número de insectos recolectados en el día 6: 4\n",
            "Ingrese el número de insectos recolectados en el día 7: 5\n",
            "\n",
            "El número total de insectos recolectados es: 30\n"
          ]
        }
      ]
    },
    {
      "cell_type": "markdown",
      "source": [
        "#2 Calorías quemadas\n",
        "Corriendo en una cinta específica quemas 3.9 calorías por minuto. Diseña un programa que use un ciclo para mostrar el número de calorías quemadas después de 10, 15, 20, 25 y 30 minutos.\n",
        "```\n",
        "Program Calorias_quemadas\n",
        "Start\n",
        "  Declare const cal_quem = 3.9\n",
        "  Declare float total_cal = 0\n",
        "  Declare int[] mins\n",
        "\n",
        "  Set mins = 10, 15, 20, 25, 30\n",
        "\n",
        "  For int c = 0 To mins -1\n",
        "     Set total_cal = cal_quem * mins(c)\n",
        "     Display \"Las calorías quemadas luego de\", mins(c), \"minutos son:\" total_cal\n",
        "  End For\n",
        "End\n",
        "```"
      ],
      "metadata": {
        "id": "ZY7NQohhbOxz"
      }
    },
    {
      "cell_type": "code",
      "source": [
        "cal_quem = 3.9 #Calorías quemadas por min\n",
        "total_cal = 0 #Variable para guardar las  calorías quemadas por cada intervalo de tiempo\n",
        "mins = [10, 15, 20, 25, 30] #Lista de los minutos a los cuales se les calculará las calorías por minuto\n",
        "\n",
        "for c in range(len(mins)):\n",
        "    total_cal = cal_quem * mins[c] #Calorías consumidas dependiendo el minuto escogido\n",
        "    print(\"Las calorías quemadas luego de\", mins[c], \"minutos son:\", total_cal) #Mostrar las calorías quemadas dependiendo los minutos"
      ],
      "metadata": {
        "id": "Nq05zhc5iR48",
        "outputId": "a1d44368-04d8-4e74-c555-e48295acd79f",
        "colab": {
          "base_uri": "https://localhost:8080/"
        }
      },
      "execution_count": 10,
      "outputs": [
        {
          "output_type": "stream",
          "name": "stdout",
          "text": [
            "Las calorías quemadas luego de 10 minutos son: 39.0\n",
            "Las calorías quemadas luego de 15 minutos son: 58.5\n",
            "Las calorías quemadas luego de 20 minutos son: 78.0\n",
            "Las calorías quemadas luego de 25 minutos son: 97.5\n",
            "Las calorías quemadas luego de 30 minutos son: 117.0\n"
          ]
        }
      ]
    }
  ]
}