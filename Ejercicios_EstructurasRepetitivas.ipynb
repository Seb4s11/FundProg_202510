{
  "nbformat": 4,
  "nbformat_minor": 0,
  "metadata": {
    "colab": {
      "provenance": [],
      "authorship_tag": "ABX9TyNXcgGKrL97VC325TpNKRTR",
      "include_colab_link": true
    },
    "kernelspec": {
      "name": "python3",
      "display_name": "Python 3"
    },
    "language_info": {
      "name": "python"
    }
  },
  "cells": [
    {
      "cell_type": "markdown",
      "metadata": {
        "id": "view-in-github",
        "colab_type": "text"
      },
      "source": [
        "<a href=\"https://colab.research.google.com/github/Seb4s11/FundProg_202510/blob/main/Ejercicios_EstructurasRepetitivas.ipynb\" target=\"_parent\"><img src=\"https://colab.research.google.com/assets/colab-badge.svg\" alt=\"Open In Colab\"/></a>"
      ]
    },
    {
      "cell_type": "markdown",
      "source": [
        "#1. Coleccionista de Insectos\n",
        "Un coleccionista de insectos recoge insectos cada día durante siete días. Diseña un programa que mantenga un total acumulado del número de insectos recogidos durante esos siete días. El ciclo debe pedir el número de insectos recolectados cada día, y al finalizar, el programa debe mostrar el total de\n",
        "insectos recolectados.\n",
        "```\n",
        "Program Coleccionista_insectos\n",
        "Start\n",
        "  Declare int[] dias = [1, 2, 3, 4, 5, 6, 7]\n",
        "  Declare int num_insec\n",
        "  Declare int total = 0\n",
        "\n",
        "  Display \"Programa para saber cuantos insectos se recolectaron en 7 días\"\n",
        "  \n",
        "  For int c = 0 To dias -1\n",
        "     Set c += 1\n",
        "     Display \"Ingrese el número de insectos recolectados en el día \" + str(c)+ \": \"\n",
        "     Input num_insec\n",
        "     Set total += num_insec\n",
        "  End For\n",
        "\n",
        "  Display \"El número total de insectos recolectados es:\", total\n",
        "End\n",
        "```"
      ],
      "metadata": {
        "id": "1vFVTpUB1FxL"
      }
    },
    {
      "cell_type": "code",
      "source": [
        "dias = [1, 2, 3, 4, 5, 6, 7] #Lista de los días en que recolectó insectos\n",
        "num_insec = 0 #Número de insectos que recolecta por día\n",
        "total = 0 #Suma de los insectos\n",
        "\n",
        "print(\"Programa para saber cuantos insectos se recolectaron en 7 días\\n\") #Mostrar un texto guía antes del ingreso de los datos\n",
        "for c in range(len(dias)):\n",
        "    c += 1\n",
        "    num_insec = int(input(\"Ingrese el número de insectos recolectados en el día \" + str(c) + \": \")) #Pedir el número de insectos recolectados al usuario\n",
        "    total += num_insec #Sumar los insectos recolectados por cada día\n",
        "\n",
        "print(\"\\nEl número total de insectos recolectados es:\", total) #Mostrar el total de insectos recolectados al usuario"
      ],
      "metadata": {
        "id": "13KhVn1kQs_P",
        "outputId": "a2a5eef2-d284-44d7-befa-df6178916465",
        "colab": {
          "base_uri": "https://localhost:8080/"
        }
      },
      "execution_count": null,
      "outputs": [
        {
          "output_type": "stream",
          "name": "stdout",
          "text": [
            "Programa para saber cuantos insectos se recolectaron en 7 días\n",
            "\n",
            "Ingrese el número de insectos recolectados en el día 1: 5\n",
            "Ingrese el número de insectos recolectados en el día 2: 5\n",
            "Ingrese el número de insectos recolectados en el día 3: 77\n",
            "Ingrese el número de insectos recolectados en el día 4: 20\n",
            "Ingrese el número de insectos recolectados en el día 5: 0\n",
            "Ingrese el número de insectos recolectados en el día 6: 2\n",
            "Ingrese el número de insectos recolectados en el día 7: 2\n",
            "\n",
            "El número total de insectos recolectados es: 111\n"
          ]
        }
      ]
    },
    {
      "cell_type": "markdown",
      "source": [
        "#2. Calorías quemadas\n",
        "Corriendo en una cinta específica quemas 3.9 calorías por minuto. Diseña un programa que use un ciclo para mostrar el número de calorías quemadas después de 10, 15, 20, 25 y 30 minutos.\n",
        "```\n",
        "Program Calorias_quemadas\n",
        "Start\n",
        "  Declare const cal_quem = 3.9\n",
        "  Declare float total_cal = 0\n",
        "  Declare int[] mins = [10, 15, 20, 25, 30]\n",
        "\n",
        "  Display \"Programa para saber las calorías quemadas en ciertos intervalos de tiempo\"\n",
        "\n",
        "  For int c = 0 To mins -1\n",
        "     Set total_cal = cal_quem * mins(c)\n",
        "     Display \"Las calorías quemadas luego de\", mins(c), \"minutos son:\" total_cal\n",
        "  End For\n",
        "End\n",
        "```"
      ],
      "metadata": {
        "id": "ZY7NQohhbOxz"
      }
    },
    {
      "cell_type": "code",
      "source": [
        "cal_quem = 3.9 #Calorías quemadas por min\n",
        "total_cal = 0 #Variable para guardar las  calorías quemadas por cada intervalo de tiempo\n",
        "mins = [10, 15, 20, 25, 30] #Lista de los minutos a los cuales se les calculará las calorías por minuto\n",
        "print(\"Programa para saber las calorías quemadas en ciertos intervalos de tiempo\\n\") #Mostrar un texto guía antes del ingreso de los datos\n",
        "\n",
        "for c in range(len(mins)):\n",
        "    total_cal = cal_quem * mins[c] #Calorías consumidas dependiendo el minuto escogido\n",
        "    print(\"Las calorías quemadas luego de\", mins[c], \"minutos son:\", total_cal) #Mostrar las calorías quemadas dependiendo los minutos"
      ],
      "metadata": {
        "id": "Nq05zhc5iR48",
        "outputId": "a1d44368-04d8-4e74-c555-e48295acd79f",
        "colab": {
          "base_uri": "https://localhost:8080/"
        }
      },
      "execution_count": null,
      "outputs": [
        {
          "output_type": "stream",
          "name": "stdout",
          "text": [
            "Las calorías quemadas luego de 10 minutos son: 39.0\n",
            "Las calorías quemadas luego de 15 minutos son: 58.5\n",
            "Las calorías quemadas luego de 20 minutos son: 78.0\n",
            "Las calorías quemadas luego de 25 minutos son: 97.5\n",
            "Las calorías quemadas luego de 30 minutos son: 117.0\n"
          ]
        }
      ]
    },
    {
      "cell_type": "markdown",
      "source": [
        "#3. Análisis de Presupuesto\n",
        "Diseña un programa que pida al usuario ingresar la cantidad de dinero que ha presupuestado para un\n",
        "mes. Luego, en un ciclo, el programa debe pedirle al usuario que ingrese cada uno de sus gastos y\n",
        "mantener un total acumulado. Cuando el ciclo termine, el programa debe mostrar si el usuario se\n",
        "pasó o quedó por debajo de su presupuesto.\n",
        "```\n",
        "Program Analisis_presupuesto\n",
        "Start\n",
        "  Declare float presupuesto\n",
        "  Declare float c_gast\n",
        "  Declare float gastos\n",
        "  Declare float total = 0\n",
        "\n",
        "  Display \"Programa para saber si sus gatos se pasan o quedan por debajo de su presupuesto\"\n",
        "\n",
        "  Display \"Ingrese la cantidad de dinero que tiene presupuestada para el mes\"\n",
        "  Input presupuesto\n",
        "\n",
        "  Display \"Ingrese la cantidad de gastos que tiene\"\n",
        "  Input c_gast\n",
        "\n",
        "  For c = 0 To c_gast -1\n",
        "    Set c += 1\n",
        "    Display \"Ingrese su gasto número\", str[c], \": \"\n",
        "    Input gastos\n",
        "    Set total += gastos\n",
        "  End For\n",
        "\n",
        "  Display \"El total acumulado de sus gastos es:\", total\n",
        "\n",
        "  If total == presupuesto Then\n",
        "    Display \"El total acumulado de sus gastos es igual a su presupuesto\"\n",
        "  Elif total < presupuesto Then\n",
        "    Display \"El total acumulado de sus gastos quedó por debajo de su presupuesto (le alcanza)\"\n",
        "  Else\n",
        "    Display \"El total acumulado de sus gastos pasó a su presupuesto (no le alcanza)\"\n",
        "  End If\n",
        "End\n",
        "```"
      ],
      "metadata": {
        "id": "J-7Egvgqj4uQ"
      }
    },
    {
      "cell_type": "code",
      "source": [
        "total = 0\n",
        "\n",
        "print(\"Programa para saber si sus gatos se pasan o quedan por debajo de su presupuesto\\n\") #Mostrar un texto guía antes del ingreso de los datos\n",
        "#Pedir al usuario el presupuesto y la cantidad de gastos\n",
        "presupuesto = float(input(\"Ingrese la cantidad de dinero que tiene presupuestada para el mes: \")) #Pedir al usuario el presupuesto\n",
        "c_gast =  float(input(\"Ingrese la cantidad de gastos que tiene: \")) #Pedir al usuario la cantidad de gastos\n",
        "\n",
        "for c in range(int(c_gast)):\n",
        "    c += 1\n",
        "    gastos = float(input(\"Ingrese su gasto número \" + str(c) + \": \")) #Pedir al usuario los gastos\n",
        "    total += gastos\n",
        "\n",
        "print(\"\\nEl total acumulado de sus gastos es:\", total) #Mostrar el total acumulado de los gastos\n",
        "\n",
        "if total == presupuesto:\n",
        "    print(\"El total acumulado de sus gastos es igual a su presupuesto\") #Mostrar si el total acumulado de los gastos es igual al presupuesto\n",
        "\n",
        "elif total < presupuesto:\n",
        "    print(\"El total acumulado de sus gastos quedó por debajo de su presupuesto (le alcanza)\") #Mostrar si el total acumulado de los gastos es menor al presupuesto\n",
        "\n",
        "else :\n",
        "    print(\"El total acumulado de sus gastos pasó a su presupuesto (no le alcanza)\") #Mostrar si el total acumulado de los gastos es mayor al presupuesto"
      ],
      "metadata": {
        "id": "LnL7pPezp3Ge",
        "outputId": "bb931708-0645-4b11-8ce8-06722fbea048",
        "colab": {
          "base_uri": "https://localhost:8080/"
        }
      },
      "execution_count": null,
      "outputs": [
        {
          "output_type": "stream",
          "name": "stdout",
          "text": [
            "Programa para saber si sus gatos se pasan o quedan por debajo de su presupuesto\n",
            "\n",
            "Ingrese la cantidad de dinero que tiene presupuestada para el mes: 3\n",
            "Ingrese la cantidad de gastos que tiene: 5\n",
            "Ingrese su gasto número 1: 6\n",
            "Ingrese su gasto número 2: 7\n",
            "Ingrese su gasto número 3: 8\n",
            "Ingrese su gasto número 4: 7\n",
            "Ingrese su gasto número 5: 5\n",
            "\n",
            "El total acumulado de sus gastos es: 33.0\n",
            "El total acumulado de sus gastos pasó a su presupuesto (no le alcanza)\n"
          ]
        }
      ]
    },
    {
      "cell_type": "markdown",
      "source": [
        "#4. Suma de Números  \n",
        "Diseña un programa con un ciclo que le pida al usuario ingresar una serie de números positivos. El usuario debe ingresar un número negativo para indicar que ha terminado de ingresar números.cDespués de que se hayan ingresado todos los números positivos, el programa debe mostrar la suma de todos ellos.\n",
        "```\n",
        "Program Suma_numeros\n",
        "Start\n",
        "  Declare float suma = 0\n",
        "  Declare float numero\n",
        "\n",
        "  Display \"Programa para sumar números positivos\"\n",
        "  \n",
        "  Display \"Ingresa un número positivo (si ingresa uno negativo, la suma dará 0 y el programa finalizará): \"\n",
        "  Input numero\n",
        "\n",
        "  While numero >=0\n",
        "    Set suma += numero\n",
        "    Display \"Ingresa un número positivo (o un número negativo para terminar)\"\n",
        "    Input numero\n",
        "  End While\n",
        "\n",
        "  Display \"La suma total de los números ingresados es:\", suma\n",
        "End\n",
        "```"
      ],
      "metadata": {
        "id": "wszgzJ139gcE"
      }
    },
    {
      "cell_type": "code",
      "source": [
        "suma = 0 #Inicializar la suma\n",
        "\n",
        "print(\"Programa para sumar números positivos\\n\") #Mostrar un texto guía antes del ingreso de los datos\n",
        "numero = float(input(\"Ingresa un número positivo (si ingresa uno negativo, la suma dará 0 y el programa finalizará): \")) #Pedir al usuario un número positivo\n",
        "\n",
        "while numero >= 0:\n",
        "    suma += numero #Sumar los números ingresados por el usuario\n",
        "    numero = float(input(\"Ingresa un número positivo (o un número negativo para terminar): \")) #Pedir al usuario un número positivo o negativo para finalizar\n",
        "\n",
        "print(\"\\nLa suma total de los números ingresados es:\", suma) #Mostrar la suma total de los números ingresados por el usuario"
      ],
      "metadata": {
        "id": "7BnG-TCK-L46",
        "outputId": "60cfd93e-46a1-4db8-958f-45d27f669d22",
        "colab": {
          "base_uri": "https://localhost:8080/"
        }
      },
      "execution_count": null,
      "outputs": [
        {
          "output_type": "stream",
          "name": "stdout",
          "text": [
            "Programa para sumar números positivos\n",
            "\n",
            "Ingresa un número positivo (si ingresa uno negativo, la suma dará 0 y el programa finalizará): 4\n",
            "Ingresa un número positivo (o un número negativo para terminar): 5\n",
            "Ingresa un número positivo (o un número negativo para terminar): 5\n",
            "Ingresa un número positivo (o un número negativo para terminar): 5\n",
            "Ingresa un número positivo (o un número negativo para terminar): -2\n",
            "\n",
            "La suma total de los números ingresados es: 19.0\n"
          ]
        }
      ]
    },
    {
      "cell_type": "markdown",
      "source": [
        "#5. Aumento de matricula\n",
        "En una universidad, la matrícula para un estudiante de tiempo completo es de $6,000 por semestre.\n",
        "Se ha anunciado que la matrícula aumentará un 2% cada año durante los próximos cinco años. Diseña\n",
        "un programa con un ciclo que muestre la matrícula proyectada para los próximos cinco años.\n",
        "\n",
        "```\n",
        "Program aumento_matricula\n",
        "Start\n",
        "  Declare int[] years = [1, 2, 3, 4, 5]\n",
        "  Declare float[] aumeneto [1.02, 1.04, 1.06, 1.08, 2]\n",
        "  Declare int matricula = 6000\n",
        "  Declare float aumento_year = 0\n",
        "\n",
        "  For c = 0 To aumento -1\n",
        "    Set aumento_year = matricula * aumento(c)\n",
        "    Display \"La matricula durante el\", years(c), \"será de\", aumento_year\n",
        "End\n",
        "```"
      ],
      "metadata": {
        "id": "K5Wlo_qofkaS"
      }
    },
    {
      "cell_type": "code",
      "source": [
        "years = [1, 2, 3, 4, 5] #Lista de los años a los cuales se les calculará la matrícula\n",
        "aumento = [1.02, 1.04, 1.06, 1.08, 1.1] #Lista de los porcentajes de aumento de la matrícula\n",
        "matricula = 6000 #Matrícula inicial\n",
        "aumento_year = 0 #Variable para guardar el aumento de la matrícula por año\n",
        "\n",
        "print(\"Programa para saber la matrícula proyectada para los próximos cinco años\\n\") #Mostrar un texto guía antes del ingreso de los datos\n",
        "for c in range(len(aumento)):\n",
        "    aumento_year = matricula * aumento[c] #Calcular el aumento de la matrícula por año\n",
        "    print(\"La matricula durante el\", years[c], \"año será de\", aumento_year) #Mostrar el aumento de la matrícula por año"
      ],
      "metadata": {
        "id": "9W2isZMJiItt",
        "outputId": "3d11f9cd-122d-45cb-f3ad-910bf6323fef",
        "colab": {
          "base_uri": "https://localhost:8080/"
        }
      },
      "execution_count": null,
      "outputs": [
        {
          "output_type": "stream",
          "name": "stdout",
          "text": [
            "Programa para saber la matrícula proyectada para los próximos cinco años\n",
            "\n",
            "La matricula durante el 1 será de 6120.0\n",
            "La matricula durante el 2 será de 6240.0\n",
            "La matricula durante el 3 será de 6360.0\n",
            "La matricula durante el 4 será de 6480.0\n",
            "La matricula durante el 5 será de 6600.000000000001\n"
          ]
        }
      ]
    },
    {
      "cell_type": "markdown",
      "source": [
        "#6\n",
        "```\n",
        " Program_promedio_lluvias\n",
        " Start\n",
        "    Declare real velocidad\n",
        "    Declare real horas\n",
        "\n",
        "    Display\"¿Cuál es la velocidad del vehículo en mph?\"\n",
        "    Input velocidad\n",
        "\n",
        "    If velocidad <= 0 Then\n",
        "        Display \"La velocidad debe ser mayor que 0.\"\n",
        "    else if\n",
        "        Display \"¿Cuántas horas ha viajado?\"\n",
        "        Input horas\n",
        "\n",
        "        if horas <= 0 Then\n",
        "            Display \"El tiempo debe ser mayor que 0.\"\n",
        "        else if\n",
        "            Display \"Hora | Distancia Recorrida\"\n",
        "            \n",
        "            For integer 1 To horas Do\n",
        "                distancia = velocidad  i\n",
        "                Display i, \"|\", distancia\n",
        "            end if\n",
        " End\n",
        " ```\n"
      ],
      "metadata": {
        "id": "zxfUWBPFA-yj"
      }
    },
    {
      "cell_type": "code",
      "source": [
        "velocidad = float(input(\"¿Cuál es la velocidad del vehículo en mph?: \")) #Pedir al usuario la velocidad del vehículo\n",
        "if velocidad <= 0:\n",
        "    print(\"La velocidad debe ser mayor que 0.\") #Mostrar un mensaje de error si la velocidad es menor o igual a 0\n",
        "else:\n",
        "  horas = float(input(\"¿Cuántas horas ha viajado?: \")) #Pedir al usuario la cantidad de horas que ha viajado\n",
        "  if horas <= 0:\n",
        "      print(\"El tiempo debe ser mayor que 0.\") #Mostrar un mensaje de error si el tiempo es menor o igual a 0\n",
        "  else:\n",
        "      print(\"Hora | Distancia Recorrida\")\n",
        "\n",
        "      for i in range(1, int(horas) + 1):\n",
        "        distancia = velocidad * i\n",
        "        print(i, \"|\", distancia)"
      ],
      "metadata": {
        "id": "53aWPA6nQLcY",
        "outputId": "856aab79-89d3-4077-fb8e-6e380e2c0a97",
        "colab": {
          "base_uri": "https://localhost:8080/"
        }
      },
      "execution_count": null,
      "outputs": [
        {
          "output_type": "stream",
          "name": "stdout",
          "text": [
            "¿Cuál es la velocidad del vehículo en mph?: 40\n",
            "¿Cuántas horas ha viajado?: 3\n",
            "Hora | Distancia Recorrida\n",
            "1 | 40.0\n",
            "2 | 80.0\n",
            "3 | 120.0\n"
          ]
        }
      ]
    },
    {
      "cell_type": "markdown",
      "source": [
        "#13.\n",
        "```\n",
        "Program Discurso_politico\n",
        "Start\n",
        "  Declare str[] titulo = [\"Queridos\", \"Apreciados\", \"Distinguidos\", \"Honorables\", \"Estimados\", \"Respetados\"]\n",
        "  Declare str[] publico_objetivo = [\"compatriotas\", \"copartidiarios\", \"amigos\", \"coterráneos\", \"conciudadanos\"]\n",
        "  Declare str[] condicion = [\"en mi gobierno\", \"con su apoyo\", \" siendo elegido\", \"con su ayuda\", \"si me siguen\", \"durante mi mandato\"]\n",
        "  Declare str[] compromiso = [\"voy a derrotar\", \"venceré\", \"eliminaré\", \"acabaré\", \"lucharé contra\", \"combatiré\"]\n",
        "  Declare str[] ilusion_de_lucha = [\"la violencia y\", \"la delincuencia y\", \"la corrupción y\", \"la inflación y\", \"la pobreza y\", \"el desplazamiento y\"]\n",
        "  Declare str[] promesa = [\"trabajaré por\", \"garantizaré\", \"protegeré\", \"velaré por\", \"promoveré\", \"defenderé\"]\n",
        "  Declare str[] beneficio_populista = [\"la educación\", \"el empleo\", \"la seguridad\", \"la paz\", \"la igualdad\", \"la salud\"]\n",
        "  Declare str[] cantidad_votos = [\"del país.\", \"de la ciudad.\", \"de la comunidad.\", \"de la población.\", \"para toda la gente.\", \"de cada colombiano.\"]\n",
        "  Declare str[] discurso = []\n",
        "  Declare str discruso1 = \"\"\n",
        "  Declare str palabras\n",
        "  Declare str idx\n",
        "\n",
        "  discurso.add(titulo)\n",
        "  discurso.add(publico_objetivo)\n",
        "  discurso.add(condicion)\n",
        "  discurso.add(compromiso)\n",
        "  discurso.add(ilusion_de_lucha)\n",
        "  discurso.add(promesa)\n",
        "  discurso.add(beneficio_populista)\n",
        "  discurso.add(cantidad_votos)\n",
        "\n",
        "  For palabras To discurso\n",
        "    Set idx = random.randint(palabras)\n",
        "    Set discurso1 += palabras[idx] + \" \"\n",
        "  End For\n",
        "  \n",
        "  Display discurso1\n",
        "End\n",
        "```"
      ],
      "metadata": {
        "id": "qPfepDsmaFel"
      }
    },
    {
      "cell_type": "code",
      "source": [
        "import random\n",
        "titulo = [\"Queridos\", \"Apreciados\", \"Distinguidos\", \"Honorables\", \"Estimados\", \"Respetados\"]\n",
        "publico_objetivo = [\"compatriotas\", \"copartidiarios\", \"amigos\", \"coterráneos\", \"conciudadanos\"]\n",
        "condicion = [\"en mi gobierno\", \"con su apoyo\", \" siendo elegido\", \"con su ayuda\", \"si me siguen\", \"durante mi mandato\"]\n",
        "compromiso = [\"voy a derrotar\", \"venceré\", \"eliminaré\", \"acabaré\", \"lucharé contra\", \"combatiré\"]\n",
        "ilusion_de_lucha = [\"la violencia y\", \"la delincuencia y\", \"la corrupción y\", \"la inflación y\", \"la pobreza y\", \"el desplazamiento y\"]\n",
        "promesa = [\"trabajaré por\", \"garantizaré\", \"protegeré\", \"velaré por\", \"promoveré\", \"defenderé\"]\n",
        "beneficio_populista = [\"la educación\", \"el empleo\", \"la seguridad\", \"la paz\", \"la igualdad\", \"la salud\"]\n",
        "cantidad_votos = [\"del país.\", \"de la ciudad.\", \"de la comunidad.\", \"de la población.\", \"para toda la gente.\", \"de cada colombiano.\"]\n",
        "\n",
        "discurso = []\n",
        "discurso.append(titulo)\n",
        "discurso.append(publico_objetivo)\n",
        "discurso.append(condicion)\n",
        "discurso.append(compromiso)\n",
        "discurso.append(ilusion_de_lucha)\n",
        "discurso.append(promesa)\n",
        "discurso.append(beneficio_populista)\n",
        "discurso.append(cantidad_votos)\n",
        "discurso1 = \"\"\n",
        "\n",
        "for palabras in discurso:\n",
        "    idx = random.randint(0,len(palabras)-1)\n",
        "    discurso1 += palabras[idx] + \" \"\n",
        "print(discurso1)"
      ],
      "metadata": {
        "id": "zMyV8XKKdFGD",
        "outputId": "06b9640c-5653-4dbe-a34c-7c93282a8b3d",
        "colab": {
          "base_uri": "https://localhost:8080/"
        }
      },
      "execution_count": null,
      "outputs": [
        {
          "output_type": "stream",
          "name": "stdout",
          "text": [
            "Queridos coterráneos si me siguen lucharé contra la delincuencia y defenderé la educación para toda la gente. \n"
          ]
        }
      ]
    },
    {
      "cell_type": "markdown",
      "source": [
        "```\n",
        "Start\n",
        "    Declare lista1 = [2, 4, 6]\n",
        "    Declare lista2 = [1, 3, 5]\n",
        "\n",
        "  if suma_lista(lista)\n",
        "        suma = 0\n",
        "        PARA CADA num EN lista HACER\n",
        "            suma ← suma + num\n",
        "        FIN PARA\n",
        "        RETORNAR suma\n",
        "    FIN FUNCION\n",
        "\n",
        "    suma1 ← sumar_lista(lista1)\n",
        "    suma2 ← sumar_lista(lista2)\n",
        "\n",
        "   if suma1 > suma2 then\n",
        "        Display \"La primera lista tiene la suma más grande:\", suma1\n",
        "    else if suma2 > suma1 then\n",
        "        Display \"La segunda lista tiene la suma más grande:\", suma2\n",
        "    else if\n",
        "        Display \"Ambas listas tienen la misma suma:\", suma1\n",
        "    End if\n",
        "End\n",
        "```"
      ],
      "metadata": {
        "id": "xVCpJN_GG8RU"
      }
    },
    {
      "cell_type": "markdown",
      "source": [
        "```\n",
        "Program aumento_matricula\n",
        "Start\n",
        "  Declare int[] lista1 = [2, 4, 6]\n",
        "  Declare int[] lista1 = [1, 3, 5]\n",
        "  Declare int matricula = 6000\n",
        "  Declare float aumento = 0.02\n",
        "  Declare int años = 0\n",
        "  Declare int target = 5\n",
        "  Declare float total\n",
        "  Declare float total_2\n",
        "\n",
        "  Set total_2 = matricula + (matricula*aumento)\n",
        "  Display \"Su matricula el segundo año será de:\", total_2\n",
        "\n",
        "  Set total = total:2\n",
        "\n",
        "  While\n",
        "    \n",
        "  End While\n",
        "End\n",
        "```"
      ],
      "metadata": {
        "id": "PrJPBJ1oHRR9"
      }
    },
    {
      "cell_type": "markdown",
      "source": [
        "```\n",
        "\n",
        "program 5 matricula\n",
        "\n",
        "Start\n",
        "  Declare int years = 0\n",
        "  Declare real matricula = 6000\n",
        "  Declare real aumento = 0.02\n",
        "  Declare integer[2,3,4,5,6] años\n",
        "  Declare real total\n",
        "  Declare int target = 5\n",
        "  Set total = matricula + (matricula*aumento)\n",
        "  set length_años = length(años)\n",
        "\n",
        "  while years < target\n",
        "    set total *= 1 + aumento\n",
        "    years +=1\n",
        "    display \"su matricula el año\",años+1,\"sera:\",total\"\n",
        "  End Hhile\n",
        "End\n",
        "\n",
        "```"
      ],
      "metadata": {
        "id": "yb_TZQa0JYBf"
      }
    },
    {
      "cell_type": "code",
      "source": [
        "years = 0\n",
        "matricula = 6000\n",
        "aumento = 0.02\n",
        "años = [1, 2, 3, 4, 5, 6]\n",
        "total = 0\n",
        "target = 5\n",
        "total = matricula + (matricula*aumento)\n",
        "lenght = len(años)\n",
        "\n",
        "while years < target:\n",
        "    total *= 1 + aumento\n",
        "    years +=1\n",
        "    print(\"su matricula el año\",años[years-1],\"sera:\",total)"
      ],
      "metadata": {
        "id": "3seD1LbJJnVY",
        "outputId": "d9a669bf-a945-4952-d7c6-09fba634c101",
        "colab": {
          "base_uri": "https://localhost:8080/"
        }
      },
      "execution_count": null,
      "outputs": [
        {
          "output_type": "stream",
          "name": "stdout",
          "text": [
            "su matricula el año 1 sera: 6242.400000000001\n",
            "su matricula el año 2 sera: 6367.2480000000005\n",
            "su matricula el año 3 sera: 6494.592960000001\n",
            "su matricula el año 4 sera: 6624.484819200001\n",
            "su matricula el año 5 sera: 6756.974515584001\n"
          ]
        }
      ]
    },
    {
      "cell_type": "markdown",
      "source": [
        "#9. Centavos por pago\n",
        "Diseña un programa que calcule la cantidad de dinero que una persona ganaría durante un período de\n",
        "tiempo si su salario es de un centavo el primer día, dos centavos el segundo día, y se duplica cada día.\n",
        "El programa debe pedir al usuario el número de días. Muestra una tabla que muestre cuál fue el\n",
        "salario por cada día y luego muestra el pago total al final del período. El total debe mostrarse en\n",
        "dólares, no en número de centavos.\n",
        "\n",
        "```\n",
        "Program Centavos_pago\n",
        "Start\n",
        "  Declare int dias\n",
        "  Declare float pago_diario = 0.01\n",
        "  Declare float total = 0\n",
        "\n",
        "  Display \"Día \\ Salario (USD)\"\n",
        "  Display \"--------------------\"\n",
        "\n",
        "  For dia To dias -1\n",
        "    Diplay dia, pago_diario\n",
        "    Set total += pago_diario\n",
        "    Set pago_diario *= 2\n",
        "  End For\n",
        "\n",
        "  Display \"-----------------\"\n",
        "  Display \"Salario total:\"\n",
        "  Display \"$\", total\n",
        "End\n",
        "```"
      ],
      "metadata": {
        "id": "OtVX8amaM7c8"
      }
    },
    {
      "cell_type": "code",
      "source": [
        "dias = int(input(\"Ingrese el número de días: \"))\n",
        "\n",
        "pago_diario = 0.01  # Primer día\n",
        "total = 0.0\n",
        "\n",
        "print(\"Día | Salario (USD)\")\n",
        "print(\"-----------------\")\n",
        "\n",
        "for dia in range(1, dias + 1):\n",
        "    print(dia, pago_diario)\n",
        "    total += pago_diario\n",
        "    pago_diario *= 2  # Se duplica cada día\n",
        "print(\"\\n-----------------\")\n",
        "print(\"Salario total:\")\n",
        "print(\"$\", total)"
      ],
      "metadata": {
        "id": "NJL7WWy_TFLZ",
        "outputId": "19eedb97-e1af-4756-bab0-58a2ce647529",
        "colab": {
          "base_uri": "https://localhost:8080/"
        }
      },
      "execution_count": null,
      "outputs": [
        {
          "output_type": "stream",
          "name": "stdout",
          "text": [
            "Ingrese el número de días: 6\n",
            "Día | Salario (USD)\n",
            "-----------------\n",
            "1 0.01\n",
            "2 0.02\n",
            "3 0.04\n",
            "4 0.08\n",
            "5 0.16\n",
            "6 0.32\n",
            "\n",
            "-----------------\n",
            "Salario total:\n",
            "$ 0.6300000000000001\n"
          ]
        }
      ]
    },
    {
      "cell_type": "markdown",
      "source": [
        "#Ejercico 8\n",
        "```\n",
        "Program Tabla_temperatura\n",
        "Start\n",
        "  Declare int celsius = 0\n",
        "  Declare fahrenheit = 0\n",
        "\n",
        "  Display \"Tabla de Celsius a Fahrenheit\"\n",
        "  Display \"Celsius | Fahrenheit\"\n",
        "\n",
        "  For celsius To 20 Do\n",
        "    Set fahrenheit = (9.0/5.0 * celsius) + 32\n",
        "    Display celsius , \"|\", fahrenheit\n",
        "  End For\n",
        "End\n",
        "```"
      ],
      "metadata": {
        "id": "sxiwM1VupYkh"
      }
    },
    {
      "cell_type": "code",
      "source": [
        "celsius = 0\n",
        "fahrenheit = 0\n",
        "\n",
        "print(\"Tabla de Celsius a Fahrenheit\")\n",
        "print(\"Celsius | Fahrenheit\")\n",
        "\n",
        "for celsius in range(0, 21):\n",
        "    fahrenheit = (9.0/5.0 * celsius) + 32\n",
        "    print(celsius, \"|\", fahrenheit)"
      ],
      "metadata": {
        "id": "O0tcL1zFp6n7",
        "outputId": "df95f338-d034-4b34-f754-81c43cdfdadf",
        "colab": {
          "base_uri": "https://localhost:8080/"
        }
      },
      "execution_count": null,
      "outputs": [
        {
          "output_type": "stream",
          "name": "stdout",
          "text": [
            "Tabla de Celsius a Fahrenheit\n",
            "Celsius | Fahrenheit\n",
            "0 | 32.0\n",
            "1 | 33.8\n",
            "2 | 35.6\n",
            "3 | 37.4\n",
            "4 | 39.2\n",
            "5 | 41.0\n",
            "6 | 42.8\n",
            "7 | 44.6\n",
            "8 | 46.4\n",
            "9 | 48.2\n",
            "10 | 50.0\n",
            "11 | 51.8\n",
            "12 | 53.6\n",
            "13 | 55.400000000000006\n",
            "14 | 57.2\n",
            "15 | 59.0\n",
            "16 | 60.8\n",
            "17 | 62.6\n",
            "18 | 64.4\n",
            "19 | 66.2\n",
            "20 | 68.0\n"
          ]
        }
      ]
    },
    {
      "cell_type": "markdown",
      "source": [
        "7.\n",
        "```\n",
        "Program promedio_lluvia\n",
        "Start\n",
        "  Declare int years\n",
        "  Declare float total_lluvia = 0\n",
        "  Declare float total_meses\n",
        "  Declare int i = 1\n",
        "  Declare float lluvia\n",
        "\n",
        "  Display \"¿Cuántos años desea evaluar?\"\n",
        "  Input years\n",
        "\n",
        "  If years <= 0 Then\n",
        "    Display \"El número de años debe ser mayor que 0\"\n",
        "  Else\n",
        "    Set total_meses = years * 12\n",
        "\n",
        "    For i To years do\n",
        "      For i To 12 do\n",
        "        Display \"Ingrese la cantidad \"\n",
        "End\n",
        "```"
      ],
      "metadata": {
        "id": "AImafesqN5Da"
      }
    },
    {
      "cell_type": "markdown",
      "source": [
        "7.\n",
        "```\n",
        "Program_promedio_lluvia\n",
        " Start\n",
        "    Declare real años\n",
        "    Display \"¿Cuántos años desea evaluar?\"\n",
        "    Input años\n",
        "\n",
        "    if años <= 0 tThen\n",
        "     Display \"El número de años debe ser mayor que 0.\"\n",
        "    else if\n",
        "       Set total_lluvia = 0\n",
        "       Set total_meses = años * 12\n",
        "\n",
        "    // Ciclo externo: Recorre los años\n",
        "        for i integer 1 to años do\n",
        "     // Ciclo interno: Recorre los meses\n",
        "           for i integer 1 to 12 do\n",
        "      Display \"Ingrese la cantidad de lluvia (cm) para el mes\", i, \"del año\", i\n",
        "        Input lluvia\n",
        "          if lluvia < 0 Then\n",
        "      Display \"La lluvia no puede ser negativa.\"\n",
        "         else if\n",
        "          total_lluvia ← total_lluvia + lluvia\n",
        "        end if\n",
        "\n",
        "     // Calcular promedio\n",
        "        promedio ← total_lluvia / total_meses\n",
        "\n",
        "     // Mostrar resultados\n",
        "       Display \"Número total de meses:\", total_meses\n",
        "       Display \"Total de lluvia en cm:\", total_lluvia\n",
        "       Display \"Promedio de lluvia por mes:\", promedio\n",
        "    end if\n",
        " End\n",
        " ```"
      ],
      "metadata": {
        "id": "JRh0QITZNePe"
      }
    },
    {
      "cell_type": "markdown",
      "source": [
        "#7.\n",
        "```\n",
        "Program promedio_lluvia\n",
        "Start\n",
        "  Declare int years\n",
        "  Declare float total_lluvia = 0\n",
        "  Declare float total_meses\n",
        "  Declare float lluvia\n",
        "  Declare float promedio\n",
        "  Declare int i = 1\n",
        "  Declare int j = 1\n",
        "\n",
        "  Display \"Cuántos años desea evaluar\"\n",
        "  Input years\n",
        "\n",
        "  Set total_meses = años * 12\n",
        "\n",
        "  If years <= 0 Then\n",
        "    Display \"El número de años debe ser mayor que 0\"\n",
        "  Else\n",
        "    For i To years -1\n",
        "      For j To (1, 13)\n",
        "        Display \"Ingrese la cantidad de lluvia (cm) para el mes\", j, \"del año\", i, \":\"\n",
        "        Input lluvia\n",
        "        If lluvia < 0 Then\n",
        "          Display \"La lluvia no puede ser negativa\"\n",
        "        Else\n",
        "          Set total_lluvia += lluvia\n",
        "        End If\n",
        "      End For\n",
        "\n",
        "    Set promedio = total_lluvia / total_meses\n",
        "\n",
        "    Display \"Número total de meses:\", total_meses\n",
        "    Display \"Total de lluvia en cm:\", total_lluvia\n",
        "    Display \"Promedio de lluvia por mes:\", promedio\n",
        "\n",
        "    End For\n",
        "  End If\n",
        "End\n",
        "```"
      ],
      "metadata": {
        "id": "AAxpV5XHRAL3"
      }
    },
    {
      "cell_type": "code",
      "source": [
        "years = int(input(\"Cuántos años desea evaluar: \"))\n",
        "total_lluvia = 0\n",
        "total_meses = years * 12\n",
        "\n",
        "if years <= 0:\n",
        "    print(\"El número de años debe ser mayor que 0\")\n",
        "else:\n",
        "  for i in range(1, years + 1):\n",
        "    for j in range(1, 13):\n",
        "        print(\"Ingrese la cantidad de lluvia (cm) para el mes\", j, \"del año\", i, \":\")\n",
        "        lluvia = float(input())\n",
        "        if lluvia < 0:\n",
        "            print(\"La lluvia no puede ser negativa.\")\n",
        "        else:\n",
        "            total_lluvia += lluvia\n",
        "  promedio = total_lluvia / total_meses\n",
        "\n",
        "  print(\"\\nNúmero total de meses:\", total_meses)\n",
        "  print(\"Total de lluvia en cm:\", total_lluvia)\n",
        "  print(\"Promedio de lluvia por mes:\", promedio)"
      ],
      "metadata": {
        "id": "3EYHtTbyT4bt",
        "outputId": "6e181683-a4ba-4d5e-8dfe-325b13f8e185",
        "colab": {
          "base_uri": "https://localhost:8080/"
        }
      },
      "execution_count": 9,
      "outputs": [
        {
          "output_type": "stream",
          "name": "stdout",
          "text": [
            "Cuántos años desea evaluar: 1\n",
            "Ingrese la cantidad de lluvia (cm) para el mes 1 del año 1 :\n",
            "1\n",
            "Ingrese la cantidad de lluvia (cm) para el mes 2 del año 1 :\n",
            "1\n",
            "Ingrese la cantidad de lluvia (cm) para el mes 3 del año 1 :\n",
            "1\n",
            "Ingrese la cantidad de lluvia (cm) para el mes 4 del año 1 :\n",
            "1\n",
            "Ingrese la cantidad de lluvia (cm) para el mes 5 del año 1 :\n",
            "1\n",
            "Ingrese la cantidad de lluvia (cm) para el mes 6 del año 1 :\n",
            "1\n",
            "Ingrese la cantidad de lluvia (cm) para el mes 7 del año 1 :\n",
            "1\n",
            "Ingrese la cantidad de lluvia (cm) para el mes 8 del año 1 :\n",
            "1\n",
            "Ingrese la cantidad de lluvia (cm) para el mes 9 del año 1 :\n",
            "1\n",
            "Ingrese la cantidad de lluvia (cm) para el mes 10 del año 1 :\n",
            "1\n",
            "Ingrese la cantidad de lluvia (cm) para el mes 11 del año 1 :\n",
            "1\n",
            "Ingrese la cantidad de lluvia (cm) para el mes 12 del año 1 :\n",
            "1\n",
            "Número total de meses: 12\n",
            "Total de lluvia en cm: 12.0\n",
            "Promedio de lluvia por mes: 1.0\n"
          ]
        }
      ]
    }
  ]
}