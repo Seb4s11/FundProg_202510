{
  "nbformat": 4,
  "nbformat_minor": 0,
  "metadata": {
    "colab": {
      "provenance": [],
      "authorship_tag": "ABX9TyMIQ8dQFzhHbPaPWo8tF3q+",
      "include_colab_link": true
    },
    "kernelspec": {
      "name": "python3",
      "display_name": "Python 3"
    },
    "language_info": {
      "name": "python"
    }
  },
  "cells": [
    {
      "cell_type": "markdown",
      "metadata": {
        "id": "view-in-github",
        "colab_type": "text"
      },
      "source": [
        "<a href=\"https://colab.research.google.com/github/Seb4s11/FundProg_202510/blob/main/Tarea_pseudocodigo.ipynb\" target=\"_parent\"><img src=\"https://colab.research.google.com/assets/colab-badge.svg\" alt=\"Open In Colab\"/></a>"
      ]
    },
    {
      "cell_type": "markdown",
      "source": [
        "# Tareas Pseudocódigo\n",
        "<br> **Nombres:** Sebastián Llorente Funieles\n",
        "<br> **ID:** 000574916\n",
        "<br> **Email:** sebastian.llorente@upb.edu.co"
      ],
      "metadata": {
        "id": "-mkGbusVElk-"
      }
    },
    {
      "cell_type": "markdown",
      "source": [
        "#Primer problema\n",
        "Calcular las resistencias equivalentes\n",
        "\n",
        "<br>**Tarea:** Calcular la resistencia equivalente de 𝑛 resistencias en paralelo.\n",
        "Descripción: Desarrolla un algoritmo que tome como entrada un valor 𝑛 que indica el número de\n",
        "resistencias en paralelo, el valor de cada una de ellas en ohmios, y calcule la resistencia equivalente. Tenga en cuenta que (1/Req) = (1/R1) + (1/R2) + ... + (1/Rn).\n",
        "\n",
        "<br>**Resultado:** La resistencia equivalente en ohmios.\n",
        "<br>**Entradas:** Un valor 𝑛 y 𝑛 valores de resistencia en ohmios.\n",
        "<br>**Ejemplo:** Entrada: 3, 100, 200, 300; **Salida esperada:** 54.54 (ohmios).\n",
        "\n",
        "<br> **Algoritmo**\n",
        "1. Declarar las variables.\n",
        "2. Pedir al usuario\n",
        "```\n",
        "Start\n",
        "  Declare float resistencia_1\n",
        "  Declare float resistencia_2\n",
        "  Declare float resistencia_3\n",
        "  Declare float resistencia_4\n",
        "  Declare float resistencia_eq\n",
        "\n",
        "  Display \"Ingresa el valor de la resistencia uno en ohmios\"\n",
        "  Input resistencia_1\n",
        "\n",
        "  Display \"Ingresa el valor de la resistencia dos en ohmios\"\n",
        "  Input resistencia_2\n",
        "\n",
        "  Display \"Ingresa el valor de la resistencia tres en ohmios\"\n",
        "  Input resistencia_3\n",
        "\n",
        "  Display \"Ingresa el valor de la resistencia cuatro en ohmios\"\n",
        "  Input resistencia_4\n",
        "\n",
        "  Set resistencia_eq = 1/( (1/resistencia_1) + (1/resistencia_2) + (1/resistencia_3) + (1/resistencia_4))\n",
        "\n",
        "  Display \"La resistencia equivalente es:\", resistencia_eq\n",
        "End\n",
        "```\n",
        "\n"
      ],
      "metadata": {
        "id": "jiks5NZuFBg5"
      }
    },
    {
      "cell_type": "code",
      "source": [],
      "metadata": {
        "id": "RgUqyGbSiuxR"
      },
      "execution_count": null,
      "outputs": []
    },
    {
      "cell_type": "code",
      "source": [
        "resistencia_1 = float(input(\"Ingresa el valor de la resistencia uno en ohmios: \"))\n",
        "resistencia_2 = float(input(\"Ingresa el valor de la resistencia dos en ohmios: \"))\n",
        "resistencia_3 = float(input(\"Ingresa el valor de la resistencia tres en ohmios: \"))\n",
        "resistencia_4 = float(input(\"Ingresa el valor de la resistencia cuatro en ohmios: \"))\n",
        "resistencia_eq = 1/( (1/resistencia_1) + (1/resistencia_2) + (1/resistencia_3) + (1/resistencia_4))\n",
        "\n",
        "print(\"La resistencia equivalente es:\", resistencia_eq)"
      ],
      "metadata": {
        "colab": {
          "base_uri": "https://localhost:8080/"
        },
        "id": "4vCXvAo-gZLe",
        "outputId": "7fc6f6cc-26b2-405c-923d-842cacada334"
      },
      "execution_count": 3,
      "outputs": [
        {
          "output_type": "stream",
          "name": "stdout",
          "text": [
            "Ingresa el valor de la resistencia uno en ohmios: 3\n",
            "Ingresa el valor de la resistencia dos en ohmios: 100\n",
            "Ingresa el valor de la resistencia tres en ohmios: 200\n",
            "Ingresa el valor de la resistencia cuatro en ohmios: 300\n",
            "La resistencia equivalente es: 2.843601895734597\n"
          ]
        }
      ]
    },
    {
      "cell_type": "markdown",
      "source": [
        "#Segundo problema\n",
        "**Calcular potencia disipada**\n",
        "\n",
        "<br>**Tarea:** Calcular la potencia disipada en un circuito con una resistencia dada y una corriente especificada.\n",
        "<br>Descripción: Escribe un algoritmo que tome como entrada el valor de la resistencia (𝑅) en ohmios y el\n",
        "valor de la corriente (𝐼) en amperios, y calcule la potencia disipada en el circuito utilizando la ley de\n",
        "Joule **𝑃=𝐼2𝑅**.\n",
        "\n",
        "<br>**Resultado:** La potencia disipada en el circuito en vatios.\n",
        "<br>**Entradas:** El valor de la resistencia en ohmios y el valor de la corriente en amperios.\n",
        "<br>**Ejemplo:** Entrada: 50 (ohmios), 2 (amperios); **Salida esperada:** 200 (vatios).\n",
        "\n",
        "<br> **Algoritmo**\n",
        "1. Declarar las variables.\n",
        "2. Pedir al usuario que ingrese el valor de la resistencia en ohmios.\n",
        "3. Pedir al usuario que ingrese el valor de la corriente en amperios.\n",
        "4. Calcular la potencia disipada multiplicando la resistenic por la corriente al cuadrado.\n",
        "5. Mostrar el resultado del paso 4.\n",
        "```\n",
        "Start\n",
        "  Declare float resistencia\n",
        "  Declare float corriente\n",
        "  Declare float potencia_disipada\n",
        "\n",
        "  Display \"Ingrese el valor de la resistenia en ohmios\"\n",
        "  Input resistencia\n",
        "\n",
        "  Display \"Ingrese el valor de la corriente en amperios\"\n",
        "  Input corriente\n",
        "\n",
        "  Set potencia_disipada = resistencia * (corriente**2)\n",
        "\n",
        "  Display \"La potencia disipada son\", potencia_disipada, \"vatios\"\n",
        "End\n",
        "```"
      ],
      "metadata": {
        "id": "8rCSxTJmFTCj"
      }
    },
    {
      "cell_type": "code",
      "source": [
        "resistencia = float(input(\"Ingrese el valor de la resistenia en ohmios: \"))\n",
        "corriente = float(input(\"Ingrese el valor de la corriente en amperios: \"))\n",
        "potencia_disipada = resistencia * (corriente ** 2)\n",
        "\n",
        "print(\"La potencia disipada son\", potencia_disipada, \"vatios\")"
      ],
      "metadata": {
        "colab": {
          "base_uri": "https://localhost:8080/"
        },
        "id": "X7Hnrjw6GM2o",
        "outputId": "4e933656-9150-4acd-98db-c7ada777b2f6"
      },
      "execution_count": null,
      "outputs": [
        {
          "output_type": "stream",
          "name": "stdout",
          "text": [
            "Ingrese el valor de la resistenia en ohmios: 50\n",
            "Ingrese el valor de la corriente en amperios: 2\n",
            "La potencia disipada son 200.0 vatios\n"
          ]
        }
      ]
    },
    {
      "cell_type": "markdown",
      "source": [
        "#Tercer Problema\n",
        "**Corriente eléctrica en una resistencia**\n",
        "\n",
        "<br>**Tarea:** Calcular la corriente eléctrica en una resistencia.\n",
        "Descripción: Escribe un algoritmo que tome como entrada el valor de la tensión (𝑉) en voltios y el valor de la resistencia (𝑅) en ohmios, y calcule la corriente eléctrica (𝐼) que circula por a través de ella utilizando la ley de Ohm **𝑉=𝑅𝐼 **\n",
        "\n",
        "<br>**Resultado:** La corriente eléctrica en una resistencia.\n",
        "<br>**Entradas:** El valor de la tensión en voltios y el valor de la resistencia en ohmios.\n",
        "<br>**Ejemplo:** Entrada: 12 (voltios), 4 (ohmios); **Salida esperada:** 3 (amperios).\n",
        "\n",
        "<br> **Algoritmo**\n",
        "1. Declarar las variables.\n",
        "2. Pedir al usuario que ingrese el valor de la tensió en voltios.\n",
        "3. Pedir al usuario que ingrese el valor de la resistencia en ohmios.\n",
        "4. Calcular la corriente eléctrica dividiendo la tensión entre la resistencia.\n",
        "5. Mostrar el resultado del paso 4.\n",
        "```\n",
        "Start\n",
        "  Declare float tension\n",
        "  Declare float resistencia\n",
        "  Declare float corriente_electrica\n",
        "\n",
        "  Display \"Ingrese el valor de la tensión en voltios\"\n",
        "  Input tension\n",
        "\n",
        "  Display \"Ingrese el valor de la resistencia en ohmios\"\n",
        "  Input resistencia\n",
        "\n",
        "  Set corriente_electrica = tension / resistencia\n",
        "\n",
        "  Display \"La corriente eléctrica son\", corriente_electrica, \"amperios.\"\n",
        "End\n",
        "```"
      ],
      "metadata": {
        "id": "uWItSoP2GyaN"
      }
    },
    {
      "cell_type": "code",
      "source": [
        "tension = float(input(\"Ingrese el valor de la tensión en voltios: \"))\n",
        "resistencia = float(input(\"Ingrese el valor de la resistencia en ohmios: \"))\n",
        "corriente_electrica = tension / resistencia\n",
        "\n",
        "print(\"La corriente eléctrica son\", corriente_electrica, \"amperios.\")"
      ],
      "metadata": {
        "colab": {
          "base_uri": "https://localhost:8080/"
        },
        "id": "_BJCA7PcJPmF",
        "outputId": "5b06f401-c2db-4bcf-c217-09550a484731"
      },
      "execution_count": null,
      "outputs": [
        {
          "output_type": "stream",
          "name": "stdout",
          "text": [
            "Ingrese el vallor de la tensión en voltios: 12\n",
            "Ingrese el valor de la resistencia en ohmios: 4\n",
            "La corriente eléctrica son 3.0 amperios.\n"
          ]
        }
      ]
    },
    {
      "cell_type": "markdown",
      "source": [
        "#Cuarto ejercico\n",
        "**Constante de tiempo**\n",
        "\n",
        "<br> Tarea: Calcular la constante de tiempo en un circuito RC.\n",
        "Descripción: Desarrolla un algoritmo que tome como entrada el valor de la resistencia (𝑅) en ohmios y el valor de la capacitancia (𝐶), y calcule la constante de tiempo (𝜏) en un circuito RC utilizando la fórmula *t*=𝑅𝐶.\n",
        "\n",
        "<br>**Resultado:** La capacitancia del capacitor en faradios.\n",
        "<br>**Entradas:** El valor de la resistencia en ohmios y el valor del tiempo de carga en segundos.\n",
        "<br>**Ejemplo:** Entrada: 100 (ohmios), 0.0005 (faradios); **Salida esperada:** 0.05 (segundos).\n",
        "\n",
        "<br> **Algoritmo**\n",
        "1. Declarar las variables.\n",
        "2. Pedir al usuario que ingrese el valor de la resistencia en ohmios.\n",
        "3. Pedir al usuario que ingrese el valor de la capacitancia en faradio.\n",
        "4. Calcular la constante de tiempo multiplicando la resistencia por la capacitancia.\n",
        "5. Mostrar el resultado del paso 4.\n",
        "\n",
        "```\n",
        "Start\n",
        "  Declare float resistencia\n",
        "  Declare float capacitancia\n",
        "  Declare float constante_tiempo\n",
        "\n",
        "  Display \"Ingrese el valor de la resistencia en ohmios\"\n",
        "  Input resistencia\n",
        "\n",
        "  Display \"Ingrese el valor de la capacitancia en faradio\"\n",
        "  Input capacitancia\n",
        "\n",
        "  Set constante_tiempo = resistenncia * capacitancia\n",
        "\n",
        "  Display \"La constante de tiempo son\", constante_tiempo, \"segundos.\"\n",
        "End\n",
        "```"
      ],
      "metadata": {
        "id": "thjz6-m8J5Bi"
      }
    },
    {
      "cell_type": "code",
      "source": [
        "resistencia = float(input(\"Ingrese el valor de la resistencia en ohmios: \"))\n",
        "capacitancia = float(input(\"Ingrese el valor de la capacitancia en faradio: \"))\n",
        "constante_tiempo = resistencia * capacitancia\n",
        "\n",
        "print(\"La constante de tiempo son\", constante_tiempo, \"segundos.\")"
      ],
      "metadata": {
        "colab": {
          "base_uri": "https://localhost:8080/"
        },
        "id": "KMqMr6-SLKqB",
        "outputId": "534e1593-2f07-4d00-b05a-27f70e98c701"
      },
      "execution_count": null,
      "outputs": [
        {
          "output_type": "stream",
          "name": "stdout",
          "text": [
            "Ingrese el valor de la resistencia en ohmios: 100\n",
            "Ingrese el valor de la capacitancia en faradio: 0.0005\n",
            "La constante de tiempo son 0.05 segundos.\n"
          ]
        }
      ]
    },
    {
      "cell_type": "markdown",
      "source": [
        "#Quinto problema\n",
        "**Consumo de energía**\n",
        "\n",
        "<br>Tarea: Calcular el consumo de energía en un periodo de tiempo a partir de las potencias promedios. Descripción: Desarrolla un algoritmo que tome como entrada un número de horas (𝑛) y 𝑛 valores de potencia promedio por hora en 𝑘𝑊ℎ para calcular la energía total consumida en el periodo indicado. Para este caso, la energía consumida cada hora tiene el mismo valor de la potencia promedio por hora, y la energía total es la sumatoria de estas.  \n",
        "\n",
        "<br>Resultado: La energía total consumida en el periodo indicado.\n",
        "<br>Entradas: La duración del periodo en horas y las potencias promedio por hora.\n",
        "<br>Ejemplo: Entrada: 4 (horas), 25, 25, 50, 100; Salida esperada: 200 (kWh).\n",
        "```\n",
        "Start\n",
        "  Declare float periodo_1\n",
        "  Declare float periodo_2\n",
        "  Declare float periodo_3\n",
        "  Declare float potencia_1\n",
        "  Declare float potencia_2\n",
        "  Declare float potencia_3\n",
        "  Declare float consumo_1\n",
        "  Declare float consumo_2\n",
        "  Declare float consumo_3\n",
        "\n",
        "  Display \"Ingrese el primer periodo de tiempo en horas\"\n",
        "  Input periodo_1\n",
        "\n",
        "  Display \"Ingrese la primera potencia promedio por hora\"\n",
        "  Input potencia_1\n",
        "\n",
        "  Set consumo_1 = periodo_1 * potencia_1\n",
        "\n",
        "  Display \"El primer consumo de energía promedio es:\", consumo_1\n",
        "\n",
        "  Display \"Ingrese el segundo periodo de tiempo en horas\"\n",
        "  Input periodo_2\n",
        "\n",
        "  Display \"Ingrese la segunda potencia promedio por hora\"\n",
        "  Input potencia_2\n",
        "\n",
        "  Set consumo_2 = hora_2 * potencia_2\n",
        "\n",
        "  Display \"El segundo consumo de energía promedio es:\", consumo_2\n",
        "\n",
        "  Display \"Ingrese el tercer periodo de tiempo en horas\"\n",
        "  Input periodo_3\n",
        "\n",
        "  Display \"Ingrese la primera potencia promedio por hora\"\n",
        "  Input potencia_3\n",
        "\n",
        "  Set consumo_3 = periodo_3 * potencia_3\n",
        "\n",
        "  Display \"El tercer consumo de energía promedio es:\", consumo_3\n",
        "\n",
        "End\n",
        "```"
      ],
      "metadata": {
        "id": "iW0mO4btLb3F"
      }
    },
    {
      "cell_type": "code",
      "source": [
        "periodo_1 = float(input(\"Ingrese el primer periodo de tiempo en horas: \"))\n",
        "potencia_1 = float(input(\"Ingrese la primera potencia promedio por hora: \"))\n",
        "consumo_1 = periodo_1 * potencia_1\n",
        "print(\"El primer consumo de energía promedio es:\", consumo_1)\n",
        "\n",
        "periodo_2 = float(input(\"Ingrese el segundo periodo de tiempo en horas: \"))\n",
        "potencia_2 = float(input(\"Ingrese la segunda potencia promedio por hora: \"))\n",
        "consumo_2 = periodo_2 * potencia_2\n",
        "print(\"El segundo consumo de energía promedio es:\", consumo_2)\n",
        "\n",
        "periodo_3 = float(input(\"Ingrese el tercer periodo de tiempo en horas: \"))\n",
        "potencia_3 = float(input(\"Ingrese la primera potencia promedio por hora: \"))\n",
        "consumo_3 = periodo_3 * potencia_3\n",
        "print(\"El tercer consumo de energía promedio es:\", consumo_3)"
      ],
      "metadata": {
        "colab": {
          "base_uri": "https://localhost:8080/"
        },
        "id": "taWkQ2bZlbmL",
        "outputId": "adbdeb08-1022-4726-e418-1001c9650a62"
      },
      "execution_count": 9,
      "outputs": [
        {
          "output_type": "stream",
          "name": "stdout",
          "text": [
            "Ingrese el primer periodo de tiempo en horas: 5\n",
            "Ingrese la primera potencia promedio por hora: 5\n",
            "El primer consumo de energía promedio es: 25.0\n",
            "Ingrese el segundo periodo de tiempo en horas: 4\n",
            "Ingrese la segunda potencia promedio por hora: 3\n",
            "El segundo consumo de energía promedio es: 12.0\n",
            "Ingrese el tercer periodo de tiempo en horas: 3\n",
            "Ingrese la primera potencia promedio por hora: 2\n",
            "El tercer consumo de energía promedio es: 6.0\n"
          ]
        }
      ]
    }
  ]
}